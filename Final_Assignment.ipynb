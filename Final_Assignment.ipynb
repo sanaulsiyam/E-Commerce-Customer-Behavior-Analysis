{
 "cells": [
  {
   "cell_type": "markdown",
   "id": "e01f1e2e",
   "metadata": {},
   "source": [
    "### Necessary Libaries"
   ]
  },
  {
   "cell_type": "code",
   "execution_count": 2,
   "id": "4f6b3a10",
   "metadata": {},
   "outputs": [],
   "source": [
    "import pandas as pd\n",
    "import numpy as np\n",
    "import matplotlib.pyplot as plt\n",
    "import seaborn as sns\n",
    "import plotly.express as px\n",
    "import nbformat\n",
    "import warnings\n",
    "warnings.filterwarnings(\"ignore\")\n"
   ]
  },
  {
   "cell_type": "markdown",
   "id": "19aed4bb",
   "metadata": {},
   "source": [
    "### Exploring The Dataset"
   ]
  },
  {
   "cell_type": "code",
   "execution_count": 4,
   "id": "f8e32645",
   "metadata": {},
   "outputs": [],
   "source": [
    "df = pd.read_csv(\"ecommerce_customer_behavior_dataset.csv\")"
   ]
  },
  {
   "cell_type": "code",
   "execution_count": 8,
   "id": "8c66349c",
   "metadata": {},
   "outputs": [
    {
     "data": {
      "application/vnd.microsoft.datawrangler.viewer.v0+json": {
       "columns": [
        {
         "name": "index",
         "rawType": "int64",
         "type": "integer"
        },
        {
         "name": "Customer ID",
         "rawType": "int64",
         "type": "integer"
        },
        {
         "name": "Age",
         "rawType": "int64",
         "type": "integer"
        },
        {
         "name": "Gender",
         "rawType": "object",
         "type": "string"
        },
        {
         "name": "Location",
         "rawType": "object",
         "type": "string"
        },
        {
         "name": "Product Category",
         "rawType": "object",
         "type": "string"
        },
        {
         "name": "Purchase Amount ($)",
         "rawType": "float64",
         "type": "float"
        },
        {
         "name": "Time Spent on Website (min)",
         "rawType": "int64",
         "type": "integer"
        },
        {
         "name": "Device Type",
         "rawType": "object",
         "type": "string"
        },
        {
         "name": "Payment Method",
         "rawType": "object",
         "type": "string"
        },
        {
         "name": "Discount Availed",
         "rawType": "bool",
         "type": "boolean"
        },
        {
         "name": "Number of Items Purchased",
         "rawType": "int64",
         "type": "integer"
        },
        {
         "name": "Return Customer",
         "rawType": "bool",
         "type": "boolean"
        },
        {
         "name": "Review Score (1-5)",
         "rawType": "int64",
         "type": "integer"
        },
        {
         "name": "Delivery Time (days)",
         "rawType": "int64",
         "type": "integer"
        },
        {
         "name": "Subscription Status",
         "rawType": "object",
         "type": "string"
        },
        {
         "name": "Customer Satisfaction",
         "rawType": "object",
         "type": "string"
        }
       ],
       "ref": "376f0381-468b-4f8f-96ca-4db823b1cec8",
       "rows": [
        [
         "0",
         "1",
         "20",
         "Other",
         "Dhaka",
         "Toys",
         "202.54",
         "44",
         "Mobile",
         "Cash on Delivery",
         "True",
         "4",
         "True",
         "5",
         "4",
         "Free",
         "Low"
        ],
        [
         "1",
         "2",
         "39",
         "Male",
         "Rangpur",
         "Sports",
         "655.94",
         "27",
         "Desktop",
         "Bank Transfer",
         "True",
         "1",
         "False",
         "1",
         "7",
         "Free",
         "Medium"
        ],
        [
         "2",
         "3",
         "64",
         "Male",
         "Khulna",
         "Home",
         "963.65",
         "9",
         "Tablet",
         "Bank Transfer",
         "False",
         "8",
         "True",
         "4",
         "9",
         "Premium",
         "Medium"
        ],
        [
         "3",
         "4",
         "65",
         "Other",
         "Rajshahi",
         "Beauty",
         "485.59",
         "39",
         "Desktop",
         "Bank Transfer",
         "True",
         "1",
         "True",
         "5",
         "10",
         "Trial",
         "Medium"
        ],
        [
         "4",
         "5",
         "67",
         "Male",
         "Rangpur",
         "Home",
         "143.27",
         "17",
         "Tablet",
         "Debit Card",
         "False",
         "8",
         "True",
         "4",
         "1",
         "Premium",
         "High"
        ]
       ],
       "shape": {
        "columns": 16,
        "rows": 5
       }
      },
      "text/html": [
       "<div>\n",
       "<style scoped>\n",
       "    .dataframe tbody tr th:only-of-type {\n",
       "        vertical-align: middle;\n",
       "    }\n",
       "\n",
       "    .dataframe tbody tr th {\n",
       "        vertical-align: top;\n",
       "    }\n",
       "\n",
       "    .dataframe thead th {\n",
       "        text-align: right;\n",
       "    }\n",
       "</style>\n",
       "<table border=\"1\" class=\"dataframe\">\n",
       "  <thead>\n",
       "    <tr style=\"text-align: right;\">\n",
       "      <th></th>\n",
       "      <th>Customer ID</th>\n",
       "      <th>Age</th>\n",
       "      <th>Gender</th>\n",
       "      <th>Location</th>\n",
       "      <th>Product Category</th>\n",
       "      <th>Purchase Amount ($)</th>\n",
       "      <th>Time Spent on Website (min)</th>\n",
       "      <th>Device Type</th>\n",
       "      <th>Payment Method</th>\n",
       "      <th>Discount Availed</th>\n",
       "      <th>Number of Items Purchased</th>\n",
       "      <th>Return Customer</th>\n",
       "      <th>Review Score (1-5)</th>\n",
       "      <th>Delivery Time (days)</th>\n",
       "      <th>Subscription Status</th>\n",
       "      <th>Customer Satisfaction</th>\n",
       "    </tr>\n",
       "  </thead>\n",
       "  <tbody>\n",
       "    <tr>\n",
       "      <th>0</th>\n",
       "      <td>1</td>\n",
       "      <td>20</td>\n",
       "      <td>Other</td>\n",
       "      <td>Dhaka</td>\n",
       "      <td>Toys</td>\n",
       "      <td>202.54</td>\n",
       "      <td>44</td>\n",
       "      <td>Mobile</td>\n",
       "      <td>Cash on Delivery</td>\n",
       "      <td>True</td>\n",
       "      <td>4</td>\n",
       "      <td>True</td>\n",
       "      <td>5</td>\n",
       "      <td>4</td>\n",
       "      <td>Free</td>\n",
       "      <td>Low</td>\n",
       "    </tr>\n",
       "    <tr>\n",
       "      <th>1</th>\n",
       "      <td>2</td>\n",
       "      <td>39</td>\n",
       "      <td>Male</td>\n",
       "      <td>Rangpur</td>\n",
       "      <td>Sports</td>\n",
       "      <td>655.94</td>\n",
       "      <td>27</td>\n",
       "      <td>Desktop</td>\n",
       "      <td>Bank Transfer</td>\n",
       "      <td>True</td>\n",
       "      <td>1</td>\n",
       "      <td>False</td>\n",
       "      <td>1</td>\n",
       "      <td>7</td>\n",
       "      <td>Free</td>\n",
       "      <td>Medium</td>\n",
       "    </tr>\n",
       "    <tr>\n",
       "      <th>2</th>\n",
       "      <td>3</td>\n",
       "      <td>64</td>\n",
       "      <td>Male</td>\n",
       "      <td>Khulna</td>\n",
       "      <td>Home</td>\n",
       "      <td>963.65</td>\n",
       "      <td>9</td>\n",
       "      <td>Tablet</td>\n",
       "      <td>Bank Transfer</td>\n",
       "      <td>False</td>\n",
       "      <td>8</td>\n",
       "      <td>True</td>\n",
       "      <td>4</td>\n",
       "      <td>9</td>\n",
       "      <td>Premium</td>\n",
       "      <td>Medium</td>\n",
       "    </tr>\n",
       "    <tr>\n",
       "      <th>3</th>\n",
       "      <td>4</td>\n",
       "      <td>65</td>\n",
       "      <td>Other</td>\n",
       "      <td>Rajshahi</td>\n",
       "      <td>Beauty</td>\n",
       "      <td>485.59</td>\n",
       "      <td>39</td>\n",
       "      <td>Desktop</td>\n",
       "      <td>Bank Transfer</td>\n",
       "      <td>True</td>\n",
       "      <td>1</td>\n",
       "      <td>True</td>\n",
       "      <td>5</td>\n",
       "      <td>10</td>\n",
       "      <td>Trial</td>\n",
       "      <td>Medium</td>\n",
       "    </tr>\n",
       "    <tr>\n",
       "      <th>4</th>\n",
       "      <td>5</td>\n",
       "      <td>67</td>\n",
       "      <td>Male</td>\n",
       "      <td>Rangpur</td>\n",
       "      <td>Home</td>\n",
       "      <td>143.27</td>\n",
       "      <td>17</td>\n",
       "      <td>Tablet</td>\n",
       "      <td>Debit Card</td>\n",
       "      <td>False</td>\n",
       "      <td>8</td>\n",
       "      <td>True</td>\n",
       "      <td>4</td>\n",
       "      <td>1</td>\n",
       "      <td>Premium</td>\n",
       "      <td>High</td>\n",
       "    </tr>\n",
       "  </tbody>\n",
       "</table>\n",
       "</div>"
      ],
      "text/plain": [
       "   Customer ID  Age Gender  Location Product Category  Purchase Amount ($)  \\\n",
       "0            1   20  Other     Dhaka             Toys               202.54   \n",
       "1            2   39   Male   Rangpur           Sports               655.94   \n",
       "2            3   64   Male    Khulna             Home               963.65   \n",
       "3            4   65  Other  Rajshahi           Beauty               485.59   \n",
       "4            5   67   Male   Rangpur             Home               143.27   \n",
       "\n",
       "   Time Spent on Website (min) Device Type    Payment Method  \\\n",
       "0                           44      Mobile  Cash on Delivery   \n",
       "1                           27     Desktop     Bank Transfer   \n",
       "2                            9      Tablet     Bank Transfer   \n",
       "3                           39     Desktop     Bank Transfer   \n",
       "4                           17      Tablet        Debit Card   \n",
       "\n",
       "   Discount Availed  Number of Items Purchased  Return Customer  \\\n",
       "0              True                          4             True   \n",
       "1              True                          1            False   \n",
       "2             False                          8             True   \n",
       "3              True                          1             True   \n",
       "4             False                          8             True   \n",
       "\n",
       "   Review Score (1-5)  Delivery Time (days) Subscription Status  \\\n",
       "0                   5                     4                Free   \n",
       "1                   1                     7                Free   \n",
       "2                   4                     9             Premium   \n",
       "3                   5                    10               Trial   \n",
       "4                   4                     1             Premium   \n",
       "\n",
       "  Customer Satisfaction  \n",
       "0                   Low  \n",
       "1                Medium  \n",
       "2                Medium  \n",
       "3                Medium  \n",
       "4                  High  "
      ]
     },
     "execution_count": 8,
     "metadata": {},
     "output_type": "execute_result"
    }
   ],
   "source": [
    "df.head()"
   ]
  },
  {
   "cell_type": "code",
   "execution_count": 9,
   "id": "872cc819",
   "metadata": {},
   "outputs": [
    {
     "name": "stdout",
     "output_type": "stream",
     "text": [
      "<class 'pandas.core.frame.DataFrame'>\n",
      "RangeIndex: 10000 entries, 0 to 9999\n",
      "Data columns (total 16 columns):\n",
      " #   Column                       Non-Null Count  Dtype  \n",
      "---  ------                       --------------  -----  \n",
      " 0   Customer ID                  10000 non-null  int64  \n",
      " 1   Age                          10000 non-null  int64  \n",
      " 2   Gender                       10000 non-null  object \n",
      " 3   Location                     10000 non-null  object \n",
      " 4   Product Category             10000 non-null  object \n",
      " 5   Purchase Amount ($)          10000 non-null  float64\n",
      " 6   Time Spent on Website (min)  10000 non-null  int64  \n",
      " 7   Device Type                  10000 non-null  object \n",
      " 8   Payment Method               10000 non-null  object \n",
      " 9   Discount Availed             10000 non-null  bool   \n",
      " 10  Number of Items Purchased    10000 non-null  int64  \n",
      " 11  Return Customer              10000 non-null  bool   \n",
      " 12  Review Score (1-5)           10000 non-null  int64  \n",
      " 13  Delivery Time (days)         10000 non-null  int64  \n",
      " 14  Subscription Status          10000 non-null  object \n",
      " 15  Customer Satisfaction        10000 non-null  object \n",
      "dtypes: bool(2), float64(1), int64(6), object(7)\n",
      "memory usage: 1.1+ MB\n"
     ]
    }
   ],
   "source": [
    "df.info()"
   ]
  },
  {
   "cell_type": "code",
   "execution_count": 10,
   "id": "bb5208c8",
   "metadata": {},
   "outputs": [
    {
     "name": "stdout",
     "output_type": "stream",
     "text": [
      "Total number of duplicate rows in the dataset: 0\n"
     ]
    }
   ],
   "source": [
    "num_duplicates = df.duplicated().sum()\n",
    "print(f\"Total number of duplicate rows in the dataset: {num_duplicates}\")"
   ]
  },
  {
   "cell_type": "code",
   "execution_count": 11,
   "id": "2143b0c5",
   "metadata": {},
   "outputs": [
    {
     "data": {
      "application/vnd.microsoft.datawrangler.viewer.v0+json": {
       "columns": [
        {
         "name": "index",
         "rawType": "object",
         "type": "string"
        },
        {
         "name": "Customer ID",
         "rawType": "float64",
         "type": "float"
        },
        {
         "name": "Age",
         "rawType": "float64",
         "type": "float"
        },
        {
         "name": "Purchase Amount ($)",
         "rawType": "float64",
         "type": "float"
        },
        {
         "name": "Time Spent on Website (min)",
         "rawType": "float64",
         "type": "float"
        },
        {
         "name": "Number of Items Purchased",
         "rawType": "float64",
         "type": "float"
        },
        {
         "name": "Review Score (1-5)",
         "rawType": "float64",
         "type": "float"
        },
        {
         "name": "Delivery Time (days)",
         "rawType": "float64",
         "type": "float"
        }
       ],
       "ref": "19c55a07-82c3-457e-ae78-a960fd295ec5",
       "rows": [
        [
         "count",
         "10000.0",
         "10000.0",
         "10000.0",
         "10000.0",
         "10000.0",
         "10000.0",
         "10000.0"
        ],
        [
         "mean",
         "5000.5",
         "43.7899",
         "503.89249399999994",
         "29.9184",
         "4.9985",
         "2.9951",
         "7.013"
        ],
        [
         "std",
         "2886.8956799071675",
         "15.005521469027851",
         "286.23808399685913",
         "17.00210718131316",
         "2.5749875351311133",
         "1.404162795873659",
         "3.721560963036903"
        ],
        [
         "min",
         "1.0",
         "18.0",
         "5.19",
         "1.0",
         "1.0",
         "1.0",
         "1.0"
        ],
        [
         "25%",
         "2500.75",
         "31.0",
         "254.9375",
         "15.0",
         "3.0",
         "2.0",
         "4.0"
        ],
        [
         "50%",
         "5000.5",
         "44.0",
         "506.195",
         "30.0",
         "5.0",
         "3.0",
         "7.0"
        ],
        [
         "75%",
         "7500.25",
         "57.0",
         "749.135",
         "45.0",
         "7.0",
         "4.0",
         "10.0"
        ],
        [
         "max",
         "10000.0",
         "69.0",
         "999.98",
         "59.0",
         "9.0",
         "5.0",
         "13.0"
        ]
       ],
       "shape": {
        "columns": 7,
        "rows": 8
       }
      },
      "text/html": [
       "<div>\n",
       "<style scoped>\n",
       "    .dataframe tbody tr th:only-of-type {\n",
       "        vertical-align: middle;\n",
       "    }\n",
       "\n",
       "    .dataframe tbody tr th {\n",
       "        vertical-align: top;\n",
       "    }\n",
       "\n",
       "    .dataframe thead th {\n",
       "        text-align: right;\n",
       "    }\n",
       "</style>\n",
       "<table border=\"1\" class=\"dataframe\">\n",
       "  <thead>\n",
       "    <tr style=\"text-align: right;\">\n",
       "      <th></th>\n",
       "      <th>Customer ID</th>\n",
       "      <th>Age</th>\n",
       "      <th>Purchase Amount ($)</th>\n",
       "      <th>Time Spent on Website (min)</th>\n",
       "      <th>Number of Items Purchased</th>\n",
       "      <th>Review Score (1-5)</th>\n",
       "      <th>Delivery Time (days)</th>\n",
       "    </tr>\n",
       "  </thead>\n",
       "  <tbody>\n",
       "    <tr>\n",
       "      <th>count</th>\n",
       "      <td>10000.00000</td>\n",
       "      <td>10000.000000</td>\n",
       "      <td>10000.000000</td>\n",
       "      <td>10000.000000</td>\n",
       "      <td>10000.000000</td>\n",
       "      <td>10000.000000</td>\n",
       "      <td>10000.000000</td>\n",
       "    </tr>\n",
       "    <tr>\n",
       "      <th>mean</th>\n",
       "      <td>5000.50000</td>\n",
       "      <td>43.789900</td>\n",
       "      <td>503.892494</td>\n",
       "      <td>29.918400</td>\n",
       "      <td>4.998500</td>\n",
       "      <td>2.995100</td>\n",
       "      <td>7.013000</td>\n",
       "    </tr>\n",
       "    <tr>\n",
       "      <th>std</th>\n",
       "      <td>2886.89568</td>\n",
       "      <td>15.005521</td>\n",
       "      <td>286.238084</td>\n",
       "      <td>17.002107</td>\n",
       "      <td>2.574988</td>\n",
       "      <td>1.404163</td>\n",
       "      <td>3.721561</td>\n",
       "    </tr>\n",
       "    <tr>\n",
       "      <th>min</th>\n",
       "      <td>1.00000</td>\n",
       "      <td>18.000000</td>\n",
       "      <td>5.190000</td>\n",
       "      <td>1.000000</td>\n",
       "      <td>1.000000</td>\n",
       "      <td>1.000000</td>\n",
       "      <td>1.000000</td>\n",
       "    </tr>\n",
       "    <tr>\n",
       "      <th>25%</th>\n",
       "      <td>2500.75000</td>\n",
       "      <td>31.000000</td>\n",
       "      <td>254.937500</td>\n",
       "      <td>15.000000</td>\n",
       "      <td>3.000000</td>\n",
       "      <td>2.000000</td>\n",
       "      <td>4.000000</td>\n",
       "    </tr>\n",
       "    <tr>\n",
       "      <th>50%</th>\n",
       "      <td>5000.50000</td>\n",
       "      <td>44.000000</td>\n",
       "      <td>506.195000</td>\n",
       "      <td>30.000000</td>\n",
       "      <td>5.000000</td>\n",
       "      <td>3.000000</td>\n",
       "      <td>7.000000</td>\n",
       "    </tr>\n",
       "    <tr>\n",
       "      <th>75%</th>\n",
       "      <td>7500.25000</td>\n",
       "      <td>57.000000</td>\n",
       "      <td>749.135000</td>\n",
       "      <td>45.000000</td>\n",
       "      <td>7.000000</td>\n",
       "      <td>4.000000</td>\n",
       "      <td>10.000000</td>\n",
       "    </tr>\n",
       "    <tr>\n",
       "      <th>max</th>\n",
       "      <td>10000.00000</td>\n",
       "      <td>69.000000</td>\n",
       "      <td>999.980000</td>\n",
       "      <td>59.000000</td>\n",
       "      <td>9.000000</td>\n",
       "      <td>5.000000</td>\n",
       "      <td>13.000000</td>\n",
       "    </tr>\n",
       "  </tbody>\n",
       "</table>\n",
       "</div>"
      ],
      "text/plain": [
       "       Customer ID           Age  Purchase Amount ($)  \\\n",
       "count  10000.00000  10000.000000         10000.000000   \n",
       "mean    5000.50000     43.789900           503.892494   \n",
       "std     2886.89568     15.005521           286.238084   \n",
       "min        1.00000     18.000000             5.190000   \n",
       "25%     2500.75000     31.000000           254.937500   \n",
       "50%     5000.50000     44.000000           506.195000   \n",
       "75%     7500.25000     57.000000           749.135000   \n",
       "max    10000.00000     69.000000           999.980000   \n",
       "\n",
       "       Time Spent on Website (min)  Number of Items Purchased  \\\n",
       "count                 10000.000000               10000.000000   \n",
       "mean                     29.918400                   4.998500   \n",
       "std                      17.002107                   2.574988   \n",
       "min                       1.000000                   1.000000   \n",
       "25%                      15.000000                   3.000000   \n",
       "50%                      30.000000                   5.000000   \n",
       "75%                      45.000000                   7.000000   \n",
       "max                      59.000000                   9.000000   \n",
       "\n",
       "       Review Score (1-5)  Delivery Time (days)  \n",
       "count        10000.000000          10000.000000  \n",
       "mean             2.995100              7.013000  \n",
       "std              1.404163              3.721561  \n",
       "min              1.000000              1.000000  \n",
       "25%              2.000000              4.000000  \n",
       "50%              3.000000              7.000000  \n",
       "75%              4.000000             10.000000  \n",
       "max              5.000000             13.000000  "
      ]
     },
     "execution_count": 11,
     "metadata": {},
     "output_type": "execute_result"
    }
   ],
   "source": [
    "df.describe()"
   ]
  },
  {
   "cell_type": "markdown",
   "id": "e68dbacc",
   "metadata": {},
   "source": [
    "##### Since the dataset clean let's deep dive into the analysis"
   ]
  },
  {
   "cell_type": "markdown",
   "id": "f82fd3a5",
   "metadata": {},
   "source": [
    "### Level 1: Basic Insights"
   ]
  },
  {
   "cell_type": "markdown",
   "id": "a6007690",
   "metadata": {},
   "source": [
    "##### Q1: Find Mean, Median, and Mode (Age)"
   ]
  },
  {
   "cell_type": "code",
   "execution_count": 100,
   "id": "694b1377",
   "metadata": {},
   "outputs": [
    {
     "name": "stdout",
     "output_type": "stream",
     "text": [
      "Mean Age: 43.7899, Median: 44.0, Mode: 51\n"
     ]
    },
    {
     "data": {
      "image/png": "[encoded data removed]",
      "text/plain": [
       "<Figure size 800x500 with 1 Axes>"
      ]
     },
     "metadata": {},
     "output_type": "display_data"
    }
   ],
   "source": [
    "mean_age = df['Age'].mean()\n",
    "median_age =df['Age'].median()\n",
    "mode_age = df['Age'].mode()[0]\n",
    "print(f\"Mean Age: {mean_age}, Median: {median_age}, Mode: {mode_age}\")\n",
    "\n",
    "plt.figure(figsize=(8,5))\n",
    "sns.histplot(df['Age'],bins=20,kde=True,color='skyblue')\n",
    "plt.axvline(mean_age,color='red',linestyle='--',label=f'Mean: {mean_age:.2f}')\n",
    "plt.axvline(median_age,color='green',linestyle='--',label=f'Median:{median_age}')\n",
    "plt.axvline(mode_age, color='orange', linestyle='--',label=f'Mode: {mode_age}')\n",
    "plt.title(\"Age Distibution\")\n",
    "plt.xlabel(\"Age\")\n",
    "plt.ylabel(\"Frequency\")\n",
    "plt.legend()\n",
    "plt.tight_layout()\n",
    "plt.show()"
   ]
  },
  {
   "cell_type": "markdown",
   "id": "d2a698d4",
   "metadata": {},
   "source": [
    "##### Q2: Find variance, standard deviation, and z-score (Purchase Amount)"
   ]
  },
  {
   "cell_type": "markdown",
   "id": "3c2c9e68",
   "metadata": {},
   "source": [
    "##### Boxplot"
   ]
  },
  {
   "cell_type": "code",
   "execution_count": 98,
   "id": "2d17b5e0",
   "metadata": {},
   "outputs": [
    {
     "data": {
      "application/vnd.plotly.v1+json": {
       "config": {
        "plotlyServerURL": "https://plot.ly"
       },
       "data": [
        {
         "alignmentgroup": "True",
         "hovertemplate": "Purchase Amount ($)=%{y}<extra></extra>",
         "legendgroup": "",
         "marker": {
          "color": "lightcoral"
         },
         "name": "",
         "notched": false,
         "offsetgroup": "",
         "orientation": "v",
         "showlegend": false,
         "type": "box",
         "x0": " ",
         "xaxis": "x",
         "y": {
          "bdata": "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",
          "dtype": "f8"
         },
         "y0": " ",
         "yaxis": "y"
        }
       ],
       "layout": {
        "boxmode": "group",
        "height": 500,
        "legend": {
         "tracegroupgap": 0
        },
        "template": {
         "data": {
          "bar": [
           {
            "error_x": {
             "color": "#2a3f5f"
            },
            "error_y": {
             "color": "#2a3f5f"
            },
            "marker": {
             "line": {
              "color": "#E5ECF6",
              "width": 0.5
             },
             "pattern": {
              "fillmode": "overlay",
              "size": 10,
              "solidity": 0.2
             }
            },
            "type": "bar"
           }
          ],
          "barpolar": [
           {
            "marker": {
             "line": {
              "color": "#E5ECF6",
              "width": 0.5
             },
             "pattern": {
              "fillmode": "overlay",
              "size": 10,
              "solidity": 0.2
             }
            },
            "type": "barpolar"
           }
          ],
          "carpet": [
           {
            "aaxis": {
             "endlinecolor": "#2a3f5f",
             "gridcolor": "white",
             "linecolor": "white",
             "minorgridcolor": "white",
             "startlinecolor": "#2a3f5f"
            },
            "baxis": {
             "endlinecolor": "#2a3f5f",
             "gridcolor": "white",
             "linecolor": "white",
             "minorgridcolor": "white",
             "startlinecolor": "#2a3f5f"
            },
            "type": "carpet"
           }
          ],
          "choropleth": [
           {
            "colorbar": {
             "outlinewidth": 0,
             "ticks": ""
            },
            "type": "choropleth"
           }
          ],
          "contour": [
           {
            "colorbar": {
             "outlinewidth": 0,
             "ticks": ""
            },
            "colorscale": [
             [
              0,
              "#0d0887"
             ],
             [
              0.1111111111111111,
              "#46039f"
             ],
             [
              0.2222222222222222,
              "#7201a8"
             ],
             [
              0.3333333333333333,
              "#9c179e"
             ],
             [
              0.4444444444444444,
              "#bd3786"
             ],
             [
              0.5555555555555556,
              "#d8576b"
             ],
             [
              0.6666666666666666,
              "#ed7953"
             ],
             [
              0.7777777777777778,
              "#fb9f3a"
             ],
             [
              0.8888888888888888,
              "#fdca26"
             ],
             [
              1,
              "#f0f921"
             ]
            ],
            "type": "contour"
           }
          ],
          "contourcarpet": [
           {
            "colorbar": {
             "outlinewidth": 0,
             "ticks": ""
            },
            "type": "contourcarpet"
           }
          ],
          "heatmap": [
           {
            "colorbar": {
             "outlinewidth": 0,
             "ticks": ""
            },
            "colorscale": [
             [
              0,
              "#0d0887"
             ],
             [
              0.1111111111111111,
              "#46039f"
             ],
             [
              0.2222222222222222,
              "#7201a8"
             ],
             [
              0.3333333333333333,
              "#9c179e"
             ],
             [
              0.4444444444444444,
              "#bd3786"
             ],
             [
              0.5555555555555556,
              "#d8576b"
             ],
             [
              0.6666666666666666,
              "#ed7953"
             ],
             [
              0.7777777777777778,
              "#fb9f3a"
             ],
             [
              0.8888888888888888,
              "#fdca26"
             ],
             [
              1,
              "#f0f921"
             ]
            ],
            "type": "heatmap"
           }
          ],
          "histogram": [
           {
            "marker": {
             "pattern": {
              "fillmode": "overlay",
              "size": 10,
              "solidity": 0.2
             }
            },
            "type": "histogram"
           }
          ],
          "histogram2d": [
           {
            "colorbar": {
             "outlinewidth": 0,
             "ticks": ""
            },
            "colorscale": [
             [
              0,
              "#0d0887"
             ],
             [
              0.1111111111111111,
              "#46039f"
             ],
             [
              0.2222222222222222,
              "#7201a8"
             ],
             [
              0.3333333333333333,
              "#9c179e"
             ],
             [
              0.4444444444444444,
              "#bd3786"
             ],
             [
              0.5555555555555556,
              "#d8576b"
             ],
             [
              0.6666666666666666,
              "#ed7953"
             ],
             [
              0.7777777777777778,
              "#fb9f3a"
             ],
             [
              0.8888888888888888,
              "#fdca26"
             ],
             [
              1,
              "#f0f921"
             ]
            ],
            "type": "histogram2d"
           }
          ],
          "histogram2dcontour": [
           {
            "colorbar": {
             "outlinewidth": 0,
             "ticks": ""
            },
            "colorscale": [
             [
              0,
              "#0d0887"
             ],
             [
              0.1111111111111111,
              "#46039f"
             ],
             [
              0.2222222222222222,
              "#7201a8"
             ],
             [
              0.3333333333333333,
              "#9c179e"
             ],
             [
              0.4444444444444444,
              "#bd3786"
             ],
             [
              0.5555555555555556,
              "#d8576b"
             ],
             [
              0.6666666666666666,
              "#ed7953"
             ],
             [
              0.7777777777777778,
              "#fb9f3a"
             ],
             [
              0.8888888888888888,
              "#fdca26"
             ],
             [
              1,
              "#f0f921"
             ]
            ],
            "type": "histogram2dcontour"
           }
          ],
          "mesh3d": [
           {
            "colorbar": {
             "outlinewidth": 0,
             "ticks": ""
            },
            "type": "mesh3d"
           }
          ],
          "parcoords": [
           {
            "line": {
             "colorbar": {
              "outlinewidth": 0,
              "ticks": ""
             }
            },
            "type": "parcoords"
           }
          ],
          "pie": [
           {
            "automargin": true,
            "type": "pie"
           }
          ],
          "scatter": [
           {
            "fillpattern": {
             "fillmode": "overlay",
             "size": 10,
             "solidity": 0.2
            },
            "type": "scatter"
           }
          ],
          "scatter3d": [
           {
            "line": {
             "colorbar": {
              "outlinewidth": 0,
              "ticks": ""
             }
            },
            "marker": {
             "colorbar": {
              "outlinewidth": 0,
              "ticks": ""
             }
            },
            "type": "scatter3d"
           }
          ],
          "scattercarpet": [
           {
            "marker": {
             "colorbar": {
              "outlinewidth": 0,
              "ticks": ""
             }
            },
            "type": "scattercarpet"
           }
          ],
          "scattergeo": [
           {
            "marker": {
             "colorbar": {
              "outlinewidth": 0,
              "ticks": ""
             }
            },
            "type": "scattergeo"
           }
          ],
          "scattergl": [
           {
            "marker": {
             "colorbar": {
              "outlinewidth": 0,
              "ticks": ""
             }
            },
            "type": "scattergl"
           }
          ],
          "scattermap": [
           {
            "marker": {
             "colorbar": {
              "outlinewidth": 0,
              "ticks": ""
             }
            },
            "type": "scattermap"
           }
          ],
          "scattermapbox": [
           {
            "marker": {
             "colorbar": {
              "outlinewidth": 0,
              "ticks": ""
             }
            },
            "type": "scattermapbox"
           }
          ],
          "scatterpolar": [
           {
            "marker": {
             "colorbar": {
              "outlinewidth": 0,
              "ticks": ""
             }
            },
            "type": "scatterpolar"
           }
          ],
          "scatterpolargl": [
           {
            "marker": {
             "colorbar": {
              "outlinewidth": 0,
              "ticks": ""
             }
            },
            "type": "scatterpolargl"
           }
          ],
          "scatterternary": [
           {
            "marker": {
             "colorbar": {
              "outlinewidth": 0,
              "ticks": ""
             }
            },
            "type": "scatterternary"
           }
          ],
          "surface": [
           {
            "colorbar": {
             "outlinewidth": 0,
             "ticks": ""
            },
            "colorscale": [
             [
              0,
              "#0d0887"
             ],
             [
              0.1111111111111111,
              "#46039f"
             ],
             [
              0.2222222222222222,
              "#7201a8"
             ],
             [
              0.3333333333333333,
              "#9c179e"
             ],
             [
              0.4444444444444444,
              "#bd3786"
             ],
             [
              0.5555555555555556,
              "#d8576b"
             ],
             [
              0.6666666666666666,
              "#ed7953"
             ],
             [
              0.7777777777777778,
              "#fb9f3a"
             ],
             [
              0.8888888888888888,
              "#fdca26"
             ],
             [
              1,
              "#f0f921"
             ]
            ],
            "type": "surface"
           }
          ],
          "table": [
           {
            "cells": {
             "fill": {
              "color": "#EBF0F8"
             },
             "line": {
              "color": "white"
             }
            },
            "header": {
             "fill": {
              "color": "#C8D4E3"
             },
             "line": {
              "color": "white"
             }
            },
            "type": "table"
           }
          ]
         },
         "layout": {
          "annotationdefaults": {
           "arrowcolor": "#2a3f5f",
           "arrowhead": 0,
           "arrowwidth": 1
          },
          "autotypenumbers": "strict",
          "coloraxis": {
           "colorbar": {
            "outlinewidth": 0,
            "ticks": ""
           }
          },
          "colorscale": {
           "diverging": [
            [
             0,
             "#8e0152"
            ],
            [
             0.1,
             "#c51b7d"
            ],
            [
             0.2,
             "#de77ae"
            ],
            [
             0.3,
             "#f1b6da"
            ],
            [
             0.4,
             "#fde0ef"
            ],
            [
             0.5,
             "#f7f7f7"
            ],
            [
             0.6,
             "#e6f5d0"
            ],
            [
             0.7,
             "#b8e186"
            ],
            [
             0.8,
             "#7fbc41"
            ],
            [
             0.9,
             "#4d9221"
            ],
            [
             1,
             "#276419"
            ]
           ],
           "sequential": [
            [
             0,
             "#0d0887"
            ],
            [
             0.1111111111111111,
             "#46039f"
            ],
            [
             0.2222222222222222,
             "#7201a8"
            ],
            [
             0.3333333333333333,
             "#9c179e"
            ],
            [
             0.4444444444444444,
             "#bd3786"
            ],
            [
             0.5555555555555556,
             "#d8576b"
            ],
            [
             0.6666666666666666,
             "#ed7953"
            ],
            [
             0.7777777777777778,
             "#fb9f3a"
            ],
            [
             0.8888888888888888,
             "#fdca26"
            ],
            [
             1,
             "#f0f921"
            ]
           ],
           "sequentialminus": [
            [
             0,
             "#0d0887"
            ],
            [
             0.1111111111111111,
             "#46039f"
            ],
            [
             0.2222222222222222,
             "#7201a8"
            ],
            [
             0.3333333333333333,
             "#9c179e"
            ],
            [
             0.4444444444444444,
             "#bd3786"
            ],
            [
             0.5555555555555556,
             "#d8576b"
            ],
            [
             0.6666666666666666,
             "#ed7953"
            ],
            [
             0.7777777777777778,
             "#fb9f3a"
            ],
            [
             0.8888888888888888,
             "#fdca26"
            ],
            [
             1,
             "#f0f921"
            ]
           ]
          },
          "colorway": [
           "#636efa",
           "#EF553B",
           "#00cc96",
           "#ab63fa",
           "#FFA15A",
           "#19d3f3",
           "#FF6692",
           "#B6E880",
           "#FF97FF",
           "#FECB52"
          ],
          "font": {
           "color": "#2a3f5f"
          },
          "geo": {
           "bgcolor": "white",
           "lakecolor": "white",
           "landcolor": "#E5ECF6",
           "showlakes": true,
           "showland": true,
           "subunitcolor": "white"
          },
          "hoverlabel": {
           "align": "left"
          },
          "hovermode": "closest",
          "mapbox": {
           "style": "light"
          },
          "paper_bgcolor": "white",
          "plot_bgcolor": "#E5ECF6",
          "polar": {
           "angularaxis": {
            "gridcolor": "white",
            "linecolor": "white",
            "ticks": ""
           },
           "bgcolor": "#E5ECF6",
           "radialaxis": {
            "gridcolor": "white",
            "linecolor": "white",
            "ticks": ""
           }
          },
          "scene": {
           "xaxis": {
            "backgroundcolor": "#E5ECF6",
            "gridcolor": "white",
            "gridwidth": 2,
            "linecolor": "white",
            "showbackground": true,
            "ticks": "",
            "zerolinecolor": "white"
           },
           "yaxis": {
            "backgroundcolor": "#E5ECF6",
            "gridcolor": "white",
            "gridwidth": 2,
            "linecolor": "white",
            "showbackground": true,
            "ticks": "",
            "zerolinecolor": "white"
           },
           "zaxis": {
            "backgroundcolor": "#E5ECF6",
            "gridcolor": "white",
            "gridwidth": 2,
            "linecolor": "white",
            "showbackground": true,
            "ticks": "",
            "zerolinecolor": "white"
           }
          },
          "shapedefaults": {
           "line": {
            "color": "#2a3f5f"
           }
          },
          "ternary": {
           "aaxis": {
            "gridcolor": "white",
            "linecolor": "white",
            "ticks": ""
           },
           "baxis": {
            "gridcolor": "white",
            "linecolor": "white",
            "ticks": ""
           },
           "bgcolor": "#E5ECF6",
           "caxis": {
            "gridcolor": "white",
            "linecolor": "white",
            "ticks": ""
           }
          },
          "title": {
           "x": 0.05
          },
          "xaxis": {
           "automargin": true,
           "gridcolor": "white",
           "linecolor": "white",
           "ticks": "",
           "title": {
            "standoff": 15
           },
           "zerolinecolor": "white",
           "zerolinewidth": 2
          },
          "yaxis": {
           "automargin": true,
           "gridcolor": "white",
           "linecolor": "white",
           "ticks": "",
           "title": {
            "standoff": 15
           },
           "zerolinecolor": "white",
           "zerolinewidth": 2
          }
         }
        },
        "title": {
         "text": "<b>Purchase Amount Distribution (Boxplot)</b>"
        },
        "width": 600,
        "xaxis": {
         "anchor": "y",
         "domain": [
          0,
          1
         ]
        },
        "yaxis": {
         "anchor": "x",
         "domain": [
          0,
          1
         ],
         "title": {
          "text": "Purchase Amount ($)"
         }
        }
       }
      }
     },
     "metadata": {},
     "output_type": "display_data"
    }
   ],
   "source": [
    "import plotly.express as px\n",
    "\n",
    "fig = px.box(\n",
    "    df,\n",
    "    y='Purchase Amount ($)',\n",
    "    color_discrete_sequence=['lightcoral'],\n",
    "    title='<b>Purchase Amount Distribution (Boxplot)</b>',\n",
    "    labels={'Purchase Amount ($)': 'Purchase Amount ($)'}\n",
    ")\n",
    "\n",
    "fig.update_layout(\n",
    "    yaxis_title='Purchase Amount ($)',\n",
    "    width=600,\n",
    "    height=500,\n",
    ")\n",
    "\n",
    "fig.show()\n"
   ]
  },
  {
   "cell_type": "markdown",
   "id": "7f7ed7fb",
   "metadata": {},
   "source": [
    "#### Z-Score Visual"
   ]
  },
  {
   "cell_type": "code",
   "execution_count": 12,
   "id": "d964d65c",
   "metadata": {},
   "outputs": [
    {
     "data": {
      "image/png": "[encoded data removed]",
      "text/plain": [
       "<Figure size 800x400 with 1 Axes>"
      ]
     },
     "metadata": {},
     "output_type": "display_data"
    }
   ],
   "source": [
    "from scipy.stats import zscore\n",
    "\n",
    "df['Z-Score'] = zscore(df['Purchase Amount ($)'])\n",
    "plt.figure(figsize=(8,4))\n",
    "sns.scatterplot(x=range(len(df)),y =df['Z-Score'],hue=(abs(df['Z-Score'])>2))\n",
    "plt.axhline(2,color='red',linestyle='--')\n",
    "plt.axhline(-2,color='red',linestyle='--')\n",
    "plt.title('Z-Score of Purchase Amount (Outlier Detection)')\n",
    "plt.xlabel(\"Customer Index\")\n",
    "plt.ylabel(\"Z-Score\")\n",
    "plt.legend([\"Threshold\"])\n",
    "plt.show()"
   ]
  },
  {
   "cell_type": "markdown",
   "id": "81821cdb",
   "metadata": {},
   "source": [
    "#### Q3: What are the top three product categories based on the number of purchases?"
   ]
  },
  {
   "cell_type": "code",
   "execution_count": 97,
   "id": "8372bf25",
   "metadata": {},
   "outputs": [
    {
     "data": {
      "application/vnd.plotly.v1+json": {
       "config": {
        "plotlyServerURL": "https://plot.ly"
       },
       "data": [
        {
         "hovertemplate": "color=Electronics<br>Product Category=%{x}<br>Number of Purchases=%{y}<br>text=%{text}<extra></extra>",
         "legendgroup": "Electronics",
         "marker": {
          "color": "rgb(102, 197, 204)",
          "pattern": {
           "shape": ""
          }
         },
         "name": "Electronics",
         "orientation": "v",
         "showlegend": true,
         "text": {
          "bdata": "AAAAAAB0lEA=",
          "dtype": "f8"
         },
         "textposition": "outside",
         "type": "bar",
         "x": [
          "Electronics"
         ],
         "xaxis": "x",
         "y": {
          "bdata": "HQU=",
          "dtype": "i2"
         },
         "yaxis": "y"
        },
        {
         "hovertemplate": "color=Clothing<br>Product Category=%{x}<br>Number of Purchases=%{y}<br>text=%{text}<extra></extra>",
         "legendgroup": "Clothing",
         "marker": {
          "color": "rgb(246, 207, 113)",
          "pattern": {
           "shape": ""
          }
         },
         "name": "Clothing",
         "orientation": "v",
         "showlegend": true,
         "text": {
          "bdata": "AAAAAABElEA=",
          "dtype": "f8"
         },
         "textposition": "outside",
         "type": "bar",
         "x": [
          "Clothing"
         ],
         "xaxis": "x",
         "y": {
          "bdata": "EQU=",
          "dtype": "i2"
         },
         "yaxis": "y"
        },
        {
         "hovertemplate": "color=Toys<br>Product Category=%{x}<br>Number of Purchases=%{y}<br>text=%{text}<extra></extra>",
         "legendgroup": "Toys",
         "marker": {
          "color": "rgb(248, 156, 116)",
          "pattern": {
           "shape": ""
          }
         },
         "name": "Toys",
         "orientation": "v",
         "showlegend": true,
         "text": {
          "bdata": "AAAAAAAglEA=",
          "dtype": "f8"
         },
         "textposition": "outside",
         "type": "bar",
         "x": [
          "Toys"
         ],
         "xaxis": "x",
         "y": {
          "bdata": "CAU=",
          "dtype": "i2"
         },
         "yaxis": "y"
        }
       ],
       "layout": {
        "barmode": "relative",
        "height": 500,
        "legend": {
         "title": {
          "text": "color"
         },
         "tracegroupgap": 0
        },
        "template": {
         "data": {
          "bar": [
           {
            "error_x": {
             "color": "#2a3f5f"
            },
            "error_y": {
             "color": "#2a3f5f"
            },
            "marker": {
             "line": {
              "color": "#E5ECF6",
              "width": 0.5
             },
             "pattern": {
              "fillmode": "overlay",
              "size": 10,
              "solidity": 0.2
             }
            },
            "type": "bar"
           }
          ],
          "barpolar": [
           {
            "marker": {
             "line": {
              "color": "#E5ECF6",
              "width": 0.5
             },
             "pattern": {
              "fillmode": "overlay",
              "size": 10,
              "solidity": 0.2
             }
            },
            "type": "barpolar"
           }
          ],
          "carpet": [
           {
            "aaxis": {
             "endlinecolor": "#2a3f5f",
             "gridcolor": "white",
             "linecolor": "white",
             "minorgridcolor": "white",
             "startlinecolor": "#2a3f5f"
            },
            "baxis": {
             "endlinecolor": "#2a3f5f",
             "gridcolor": "white",
             "linecolor": "white",
             "minorgridcolor": "white",
             "startlinecolor": "#2a3f5f"
            },
            "type": "carpet"
           }
          ],
          "choropleth": [
           {
            "colorbar": {
             "outlinewidth": 0,
             "ticks": ""
            },
            "type": "choropleth"
           }
          ],
          "contour": [
           {
            "colorbar": {
             "outlinewidth": 0,
             "ticks": ""
            },
            "colorscale": [
             [
              0,
              "#0d0887"
             ],
             [
              0.1111111111111111,
              "#46039f"
             ],
             [
              0.2222222222222222,
              "#7201a8"
             ],
             [
              0.3333333333333333,
              "#9c179e"
             ],
             [
              0.4444444444444444,
              "#bd3786"
             ],
             [
              0.5555555555555556,
              "#d8576b"
             ],
             [
              0.6666666666666666,
              "#ed7953"
             ],
             [
              0.7777777777777778,
              "#fb9f3a"
             ],
             [
              0.8888888888888888,
              "#fdca26"
             ],
             [
              1,
              "#f0f921"
             ]
            ],
            "type": "contour"
           }
          ],
          "contourcarpet": [
           {
            "colorbar": {
             "outlinewidth": 0,
             "ticks": ""
            },
            "type": "contourcarpet"
           }
          ],
          "heatmap": [
           {
            "colorbar": {
             "outlinewidth": 0,
             "ticks": ""
            },
            "colorscale": [
             [
              0,
              "#0d0887"
             ],
             [
              0.1111111111111111,
              "#46039f"
             ],
             [
              0.2222222222222222,
              "#7201a8"
             ],
             [
              0.3333333333333333,
              "#9c179e"
             ],
             [
              0.4444444444444444,
              "#bd3786"
             ],
             [
              0.5555555555555556,
              "#d8576b"
             ],
             [
              0.6666666666666666,
              "#ed7953"
             ],
             [
              0.7777777777777778,
              "#fb9f3a"
             ],
             [
              0.8888888888888888,
              "#fdca26"
             ],
             [
              1,
              "#f0f921"
             ]
            ],
            "type": "heatmap"
           }
          ],
          "histogram": [
           {
            "marker": {
             "pattern": {
              "fillmode": "overlay",
              "size": 10,
              "solidity": 0.2
             }
            },
            "type": "histogram"
           }
          ],
          "histogram2d": [
           {
            "colorbar": {
             "outlinewidth": 0,
             "ticks": ""
            },
            "colorscale": [
             [
              0,
              "#0d0887"
             ],
             [
              0.1111111111111111,
              "#46039f"
             ],
             [
              0.2222222222222222,
              "#7201a8"
             ],
             [
              0.3333333333333333,
              "#9c179e"
             ],
             [
              0.4444444444444444,
              "#bd3786"
             ],
             [
              0.5555555555555556,
              "#d8576b"
             ],
             [
              0.6666666666666666,
              "#ed7953"
             ],
             [
              0.7777777777777778,
              "#fb9f3a"
             ],
             [
              0.8888888888888888,
              "#fdca26"
             ],
             [
              1,
              "#f0f921"
             ]
            ],
            "type": "histogram2d"
           }
          ],
          "histogram2dcontour": [
           {
            "colorbar": {
             "outlinewidth": 0,
             "ticks": ""
            },
            "colorscale": [
             [
              0,
              "#0d0887"
             ],
             [
              0.1111111111111111,
              "#46039f"
             ],
             [
              0.2222222222222222,
              "#7201a8"
             ],
             [
              0.3333333333333333,
              "#9c179e"
             ],
             [
              0.4444444444444444,
              "#bd3786"
             ],
             [
              0.5555555555555556,
              "#d8576b"
             ],
             [
              0.6666666666666666,
              "#ed7953"
             ],
             [
              0.7777777777777778,
              "#fb9f3a"
             ],
             [
              0.8888888888888888,
              "#fdca26"
             ],
             [
              1,
              "#f0f921"
             ]
            ],
            "type": "histogram2dcontour"
           }
          ],
          "mesh3d": [
           {
            "colorbar": {
             "outlinewidth": 0,
             "ticks": ""
            },
            "type": "mesh3d"
           }
          ],
          "parcoords": [
           {
            "line": {
             "colorbar": {
              "outlinewidth": 0,
              "ticks": ""
             }
            },
            "type": "parcoords"
           }
          ],
          "pie": [
           {
            "automargin": true,
            "type": "pie"
           }
          ],
          "scatter": [
           {
            "fillpattern": {
             "fillmode": "overlay",
             "size": 10,
             "solidity": 0.2
            },
            "type": "scatter"
           }
          ],
          "scatter3d": [
           {
            "line": {
             "colorbar": {
              "outlinewidth": 0,
              "ticks": ""
             }
            },
            "marker": {
             "colorbar": {
              "outlinewidth": 0,
              "ticks": ""
             }
            },
            "type": "scatter3d"
           }
          ],
          "scattercarpet": [
           {
            "marker": {
             "colorbar": {
              "outlinewidth": 0,
              "ticks": ""
             }
            },
            "type": "scattercarpet"
           }
          ],
          "scattergeo": [
           {
            "marker": {
             "colorbar": {
              "outlinewidth": 0,
              "ticks": ""
             }
            },
            "type": "scattergeo"
           }
          ],
          "scattergl": [
           {
            "marker": {
             "colorbar": {
              "outlinewidth": 0,
              "ticks": ""
             }
            },
            "type": "scattergl"
           }
          ],
          "scattermap": [
           {
            "marker": {
             "colorbar": {
              "outlinewidth": 0,
              "ticks": ""
             }
            },
            "type": "scattermap"
           }
          ],
          "scattermapbox": [
           {
            "marker": {
             "colorbar": {
              "outlinewidth": 0,
              "ticks": ""
             }
            },
            "type": "scattermapbox"
           }
          ],
          "scatterpolar": [
           {
            "marker": {
             "colorbar": {
              "outlinewidth": 0,
              "ticks": ""
             }
            },
            "type": "scatterpolar"
           }
          ],
          "scatterpolargl": [
           {
            "marker": {
             "colorbar": {
              "outlinewidth": 0,
              "ticks": ""
             }
            },
            "type": "scatterpolargl"
           }
          ],
          "scatterternary": [
           {
            "marker": {
             "colorbar": {
              "outlinewidth": 0,
              "ticks": ""
             }
            },
            "type": "scatterternary"
           }
          ],
          "surface": [
           {
            "colorbar": {
             "outlinewidth": 0,
             "ticks": ""
            },
            "colorscale": [
             [
              0,
              "#0d0887"
             ],
             [
              0.1111111111111111,
              "#46039f"
             ],
             [
              0.2222222222222222,
              "#7201a8"
             ],
             [
              0.3333333333333333,
              "#9c179e"
             ],
             [
              0.4444444444444444,
              "#bd3786"
             ],
             [
              0.5555555555555556,
              "#d8576b"
             ],
             [
              0.6666666666666666,
              "#ed7953"
             ],
             [
              0.7777777777777778,
              "#fb9f3a"
             ],
             [
              0.8888888888888888,
              "#fdca26"
             ],
             [
              1,
              "#f0f921"
             ]
            ],
            "type": "surface"
           }
          ],
          "table": [
           {
            "cells": {
             "fill": {
              "color": "#EBF0F8"
             },
             "line": {
              "color": "white"
             }
            },
            "header": {
             "fill": {
              "color": "#C8D4E3"
             },
             "line": {
              "color": "white"
             }
            },
            "type": "table"
           }
          ]
         },
         "layout": {
          "annotationdefaults": {
           "arrowcolor": "#2a3f5f",
           "arrowhead": 0,
           "arrowwidth": 1
          },
          "autotypenumbers": "strict",
          "coloraxis": {
           "colorbar": {
            "outlinewidth": 0,
            "ticks": ""
           }
          },
          "colorscale": {
           "diverging": [
            [
             0,
             "#8e0152"
            ],
            [
             0.1,
             "#c51b7d"
            ],
            [
             0.2,
             "#de77ae"
            ],
            [
             0.3,
             "#f1b6da"
            ],
            [
             0.4,
             "#fde0ef"
            ],
            [
             0.5,
             "#f7f7f7"
            ],
            [
             0.6,
             "#e6f5d0"
            ],
            [
             0.7,
             "#b8e186"
            ],
            [
             0.8,
             "#7fbc41"
            ],
            [
             0.9,
             "#4d9221"
            ],
            [
             1,
             "#276419"
            ]
           ],
           "sequential": [
            [
             0,
             "#0d0887"
            ],
            [
             0.1111111111111111,
             "#46039f"
            ],
            [
             0.2222222222222222,
             "#7201a8"
            ],
            [
             0.3333333333333333,
             "#9c179e"
            ],
            [
             0.4444444444444444,
             "#bd3786"
            ],
            [
             0.5555555555555556,
             "#d8576b"
            ],
            [
             0.6666666666666666,
             "#ed7953"
            ],
            [
             0.7777777777777778,
             "#fb9f3a"
            ],
            [
             0.8888888888888888,
             "#fdca26"
            ],
            [
             1,
             "#f0f921"
            ]
           ],
           "sequentialminus": [
            [
             0,
             "#0d0887"
            ],
            [
             0.1111111111111111,
             "#46039f"
            ],
            [
             0.2222222222222222,
             "#7201a8"
            ],
            [
             0.3333333333333333,
             "#9c179e"
            ],
            [
             0.4444444444444444,
             "#bd3786"
            ],
            [
             0.5555555555555556,
             "#d8576b"
            ],
            [
             0.6666666666666666,
             "#ed7953"
            ],
            [
             0.7777777777777778,
             "#fb9f3a"
            ],
            [
             0.8888888888888888,
             "#fdca26"
            ],
            [
             1,
             "#f0f921"
            ]
           ]
          },
          "colorway": [
           "#636efa",
           "#EF553B",
           "#00cc96",
           "#ab63fa",
           "#FFA15A",
           "#19d3f3",
           "#FF6692",
           "#B6E880",
           "#FF97FF",
           "#FECB52"
          ],
          "font": {
           "color": "#2a3f5f"
          },
          "geo": {
           "bgcolor": "white",
           "lakecolor": "white",
           "landcolor": "#E5ECF6",
           "showlakes": true,
           "showland": true,
           "subunitcolor": "white"
          },
          "hoverlabel": {
           "align": "left"
          },
          "hovermode": "closest",
          "mapbox": {
           "style": "light"
          },
          "paper_bgcolor": "white",
          "plot_bgcolor": "#E5ECF6",
          "polar": {
           "angularaxis": {
            "gridcolor": "white",
            "linecolor": "white",
            "ticks": ""
           },
           "bgcolor": "#E5ECF6",
           "radialaxis": {
            "gridcolor": "white",
            "linecolor": "white",
            "ticks": ""
           }
          },
          "scene": {
           "xaxis": {
            "backgroundcolor": "#E5ECF6",
            "gridcolor": "white",
            "gridwidth": 2,
            "linecolor": "white",
            "showbackground": true,
            "ticks": "",
            "zerolinecolor": "white"
           },
           "yaxis": {
            "backgroundcolor": "#E5ECF6",
            "gridcolor": "white",
            "gridwidth": 2,
            "linecolor": "white",
            "showbackground": true,
            "ticks": "",
            "zerolinecolor": "white"
           },
           "zaxis": {
            "backgroundcolor": "#E5ECF6",
            "gridcolor": "white",
            "gridwidth": 2,
            "linecolor": "white",
            "showbackground": true,
            "ticks": "",
            "zerolinecolor": "white"
           }
          },
          "shapedefaults": {
           "line": {
            "color": "#2a3f5f"
           }
          },
          "ternary": {
           "aaxis": {
            "gridcolor": "white",
            "linecolor": "white",
            "ticks": ""
           },
           "baxis": {
            "gridcolor": "white",
            "linecolor": "white",
            "ticks": ""
           },
           "bgcolor": "#E5ECF6",
           "caxis": {
            "gridcolor": "white",
            "linecolor": "white",
            "ticks": ""
           }
          },
          "title": {
           "x": 0.05
          },
          "xaxis": {
           "automargin": true,
           "gridcolor": "white",
           "linecolor": "white",
           "ticks": "",
           "title": {
            "standoff": 15
           },
           "zerolinecolor": "white",
           "zerolinewidth": 2
          },
          "yaxis": {
           "automargin": true,
           "gridcolor": "white",
           "linecolor": "white",
           "ticks": "",
           "title": {
            "standoff": 15
           },
           "zerolinecolor": "white",
           "zerolinewidth": 2
          }
         }
        },
        "title": {
         "text": "<b>Top 3 Product Categories</b>"
        },
        "width": 600,
        "xaxis": {
         "anchor": "y",
         "domain": [
          0,
          1
         ],
         "title": {
          "text": "Product Category"
         }
        },
        "yaxis": {
         "anchor": "x",
         "domain": [
          0,
          1
         ],
         "title": {
          "text": "Number of Purchases"
         }
        }
       }
      }
     },
     "metadata": {},
     "output_type": "display_data"
    }
   ],
   "source": [
    "top_products = df['Product Category'].value_counts().head(3)\n",
    "\n",
    "fig = px.bar(\n",
    "    x=top_products.index,\n",
    "    y=top_products.values,\n",
    "    color=top_products.index, \n",
    "    text=top_products.values,\n",
    "    color_discrete_sequence=px.colors.qualitative.Pastel,\n",
    "    labels={'x': 'Product Category', 'y': 'Number of Purchases'},\n",
    "    title='<b>Top 3 Product Categories</b>'\n",
    ")\n",
    "fig.update_traces(textposition='outside')\n",
    "fig.update_layout(\n",
    "    height=500,\n",
    "    width=600\n",
    ")\n",
    "fig.show()\n"
   ]
  },
  {
   "cell_type": "markdown",
   "id": "6e217e4a",
   "metadata": {},
   "source": [
    "#### Q4: How many customers are classified as return customers?"
   ]
  },
  {
   "cell_type": "code",
   "execution_count": 62,
   "id": "04c1c4ef",
   "metadata": {},
   "outputs": [
    {
     "data": {
      "application/vnd.plotly.v1+json": {
       "config": {
        "plotlyServerURL": "https://plot.ly"
       },
       "data": [
        {
         "domain": {
          "x": [
           0,
           1
          ],
          "y": [
           0,
           1
          ]
         },
         "hole": 0.3,
         "hovertemplate": "Return Status=%{label}<br>Count=%{value}<extra></extra>",
         "labels": [
          "Not Return",
          "Return"
         ],
         "legendgroup": "",
         "name": "",
         "showlegend": true,
         "textinfo": "percent+label",
         "type": "pie",
         "values": {
          "bdata": "jBOEEw==",
          "dtype": "i2"
         }
        }
       ],
       "layout": {
        "height": 500,
        "legend": {
         "tracegroupgap": 0
        },
        "piecolorway": [
         "orange",
         "lightgreen"
        ],
        "template": {
         "data": {
          "bar": [
           {
            "error_x": {
             "color": "#2a3f5f"
            },
            "error_y": {
             "color": "#2a3f5f"
            },
            "marker": {
             "line": {
              "color": "#E5ECF6",
              "width": 0.5
             },
             "pattern": {
              "fillmode": "overlay",
              "size": 10,
              "solidity": 0.2
             }
            },
            "type": "bar"
           }
          ],
          "barpolar": [
           {
            "marker": {
             "line": {
              "color": "#E5ECF6",
              "width": 0.5
             },
             "pattern": {
              "fillmode": "overlay",
              "size": 10,
              "solidity": 0.2
             }
            },
            "type": "barpolar"
           }
          ],
          "carpet": [
           {
            "aaxis": {
             "endlinecolor": "#2a3f5f",
             "gridcolor": "white",
             "linecolor": "white",
             "minorgridcolor": "white",
             "startlinecolor": "#2a3f5f"
            },
            "baxis": {
             "endlinecolor": "#2a3f5f",
             "gridcolor": "white",
             "linecolor": "white",
             "minorgridcolor": "white",
             "startlinecolor": "#2a3f5f"
            },
            "type": "carpet"
           }
          ],
          "choropleth": [
           {
            "colorbar": {
             "outlinewidth": 0,
             "ticks": ""
            },
            "type": "choropleth"
           }
          ],
          "contour": [
           {
            "colorbar": {
             "outlinewidth": 0,
             "ticks": ""
            },
            "colorscale": [
             [
              0,
              "#0d0887"
             ],
             [
              0.1111111111111111,
              "#46039f"
             ],
             [
              0.2222222222222222,
              "#7201a8"
             ],
             [
              0.3333333333333333,
              "#9c179e"
             ],
             [
              0.4444444444444444,
              "#bd3786"
             ],
             [
              0.5555555555555556,
              "#d8576b"
             ],
             [
              0.6666666666666666,
              "#ed7953"
             ],
             [
              0.7777777777777778,
              "#fb9f3a"
             ],
             [
              0.8888888888888888,
              "#fdca26"
             ],
             [
              1,
              "#f0f921"
             ]
            ],
            "type": "contour"
           }
          ],
          "contourcarpet": [
           {
            "colorbar": {
             "outlinewidth": 0,
             "ticks": ""
            },
            "type": "contourcarpet"
           }
          ],
          "heatmap": [
           {
            "colorbar": {
             "outlinewidth": 0,
             "ticks": ""
            },
            "colorscale": [
             [
              0,
              "#0d0887"
             ],
             [
              0.1111111111111111,
              "#46039f"
             ],
             [
              0.2222222222222222,
              "#7201a8"
             ],
             [
              0.3333333333333333,
              "#9c179e"
             ],
             [
              0.4444444444444444,
              "#bd3786"
             ],
             [
              0.5555555555555556,
              "#d8576b"
             ],
             [
              0.6666666666666666,
              "#ed7953"
             ],
             [
              0.7777777777777778,
              "#fb9f3a"
             ],
             [
              0.8888888888888888,
              "#fdca26"
             ],
             [
              1,
              "#f0f921"
             ]
            ],
            "type": "heatmap"
           }
          ],
          "histogram": [
           {
            "marker": {
             "pattern": {
              "fillmode": "overlay",
              "size": 10,
              "solidity": 0.2
             }
            },
            "type": "histogram"
           }
          ],
          "histogram2d": [
           {
            "colorbar": {
             "outlinewidth": 0,
             "ticks": ""
            },
            "colorscale": [
             [
              0,
              "#0d0887"
             ],
             [
              0.1111111111111111,
              "#46039f"
             ],
             [
              0.2222222222222222,
              "#7201a8"
             ],
             [
              0.3333333333333333,
              "#9c179e"
             ],
             [
              0.4444444444444444,
              "#bd3786"
             ],
             [
              0.5555555555555556,
              "#d8576b"
             ],
             [
              0.6666666666666666,
              "#ed7953"
             ],
             [
              0.7777777777777778,
              "#fb9f3a"
             ],
             [
              0.8888888888888888,
              "#fdca26"
             ],
             [
              1,
              "#f0f921"
             ]
            ],
            "type": "histogram2d"
           }
          ],
          "histogram2dcontour": [
           {
            "colorbar": {
             "outlinewidth": 0,
             "ticks": ""
            },
            "colorscale": [
             [
              0,
              "#0d0887"
             ],
             [
              0.1111111111111111,
              "#46039f"
             ],
             [
              0.2222222222222222,
              "#7201a8"
             ],
             [
              0.3333333333333333,
              "#9c179e"
             ],
             [
              0.4444444444444444,
              "#bd3786"
             ],
             [
              0.5555555555555556,
              "#d8576b"
             ],
             [
              0.6666666666666666,
              "#ed7953"
             ],
             [
              0.7777777777777778,
              "#fb9f3a"
             ],
             [
              0.8888888888888888,
              "#fdca26"
             ],
             [
              1,
              "#f0f921"
             ]
            ],
            "type": "histogram2dcontour"
           }
          ],
          "mesh3d": [
           {
            "colorbar": {
             "outlinewidth": 0,
             "ticks": ""
            },
            "type": "mesh3d"
           }
          ],
          "parcoords": [
           {
            "line": {
             "colorbar": {
              "outlinewidth": 0,
              "ticks": ""
             }
            },
            "type": "parcoords"
           }
          ],
          "pie": [
           {
            "automargin": true,
            "type": "pie"
           }
          ],
          "scatter": [
           {
            "fillpattern": {
             "fillmode": "overlay",
             "size": 10,
             "solidity": 0.2
            },
            "type": "scatter"
           }
          ],
          "scatter3d": [
           {
            "line": {
             "colorbar": {
              "outlinewidth": 0,
              "ticks": ""
             }
            },
            "marker": {
             "colorbar": {
              "outlinewidth": 0,
              "ticks": ""
             }
            },
            "type": "scatter3d"
           }
          ],
          "scattercarpet": [
           {
            "marker": {
             "colorbar": {
              "outlinewidth": 0,
              "ticks": ""
             }
            },
            "type": "scattercarpet"
           }
          ],
          "scattergeo": [
           {
            "marker": {
             "colorbar": {
              "outlinewidth": 0,
              "ticks": ""
             }
            },
            "type": "scattergeo"
           }
          ],
          "scattergl": [
           {
            "marker": {
             "colorbar": {
              "outlinewidth": 0,
              "ticks": ""
             }
            },
            "type": "scattergl"
           }
          ],
          "scattermap": [
           {
            "marker": {
             "colorbar": {
              "outlinewidth": 0,
              "ticks": ""
             }
            },
            "type": "scattermap"
           }
          ],
          "scattermapbox": [
           {
            "marker": {
             "colorbar": {
              "outlinewidth": 0,
              "ticks": ""
             }
            },
            "type": "scattermapbox"
           }
          ],
          "scatterpolar": [
           {
            "marker": {
             "colorbar": {
              "outlinewidth": 0,
              "ticks": ""
             }
            },
            "type": "scatterpolar"
           }
          ],
          "scatterpolargl": [
           {
            "marker": {
             "colorbar": {
              "outlinewidth": 0,
              "ticks": ""
             }
            },
            "type": "scatterpolargl"
           }
          ],
          "scatterternary": [
           {
            "marker": {
             "colorbar": {
              "outlinewidth": 0,
              "ticks": ""
             }
            },
            "type": "scatterternary"
           }
          ],
          "surface": [
           {
            "colorbar": {
             "outlinewidth": 0,
             "ticks": ""
            },
            "colorscale": [
             [
              0,
              "#0d0887"
             ],
             [
              0.1111111111111111,
              "#46039f"
             ],
             [
              0.2222222222222222,
              "#7201a8"
             ],
             [
              0.3333333333333333,
              "#9c179e"
             ],
             [
              0.4444444444444444,
              "#bd3786"
             ],
             [
              0.5555555555555556,
              "#d8576b"
             ],
             [
              0.6666666666666666,
              "#ed7953"
             ],
             [
              0.7777777777777778,
              "#fb9f3a"
             ],
             [
              0.8888888888888888,
              "#fdca26"
             ],
             [
              1,
              "#f0f921"
             ]
            ],
            "type": "surface"
           }
          ],
          "table": [
           {
            "cells": {
             "fill": {
              "color": "#EBF0F8"
             },
             "line": {
              "color": "white"
             }
            },
            "header": {
             "fill": {
              "color": "#C8D4E3"
             },
             "line": {
              "color": "white"
             }
            },
            "type": "table"
           }
          ]
         },
         "layout": {
          "annotationdefaults": {
           "arrowcolor": "#2a3f5f",
           "arrowhead": 0,
           "arrowwidth": 1
          },
          "autotypenumbers": "strict",
          "coloraxis": {
           "colorbar": {
            "outlinewidth": 0,
            "ticks": ""
           }
          },
          "colorscale": {
           "diverging": [
            [
             0,
             "#8e0152"
            ],
            [
             0.1,
             "#c51b7d"
            ],
            [
             0.2,
             "#de77ae"
            ],
            [
             0.3,
             "#f1b6da"
            ],
            [
             0.4,
             "#fde0ef"
            ],
            [
             0.5,
             "#f7f7f7"
            ],
            [
             0.6,
             "#e6f5d0"
            ],
            [
             0.7,
             "#b8e186"
            ],
            [
             0.8,
             "#7fbc41"
            ],
            [
             0.9,
             "#4d9221"
            ],
            [
             1,
             "#276419"
            ]
           ],
           "sequential": [
            [
             0,
             "#0d0887"
            ],
            [
             0.1111111111111111,
             "#46039f"
            ],
            [
             0.2222222222222222,
             "#7201a8"
            ],
            [
             0.3333333333333333,
             "#9c179e"
            ],
            [
             0.4444444444444444,
             "#bd3786"
            ],
            [
             0.5555555555555556,
             "#d8576b"
            ],
            [
             0.6666666666666666,
             "#ed7953"
            ],
            [
             0.7777777777777778,
             "#fb9f3a"
            ],
            [
             0.8888888888888888,
             "#fdca26"
            ],
            [
             1,
             "#f0f921"
            ]
           ],
           "sequentialminus": [
            [
             0,
             "#0d0887"
            ],
            [
             0.1111111111111111,
             "#46039f"
            ],
            [
             0.2222222222222222,
             "#7201a8"
            ],
            [
             0.3333333333333333,
             "#9c179e"
            ],
            [
             0.4444444444444444,
             "#bd3786"
            ],
            [
             0.5555555555555556,
             "#d8576b"
            ],
            [
             0.6666666666666666,
             "#ed7953"
            ],
            [
             0.7777777777777778,
             "#fb9f3a"
            ],
            [
             0.8888888888888888,
             "#fdca26"
            ],
            [
             1,
             "#f0f921"
            ]
           ]
          },
          "colorway": [
           "#636efa",
           "#EF553B",
           "#00cc96",
           "#ab63fa",
           "#FFA15A",
           "#19d3f3",
           "#FF6692",
           "#B6E880",
           "#FF97FF",
           "#FECB52"
          ],
          "font": {
           "color": "#2a3f5f"
          },
          "geo": {
           "bgcolor": "white",
           "lakecolor": "white",
           "landcolor": "#E5ECF6",
           "showlakes": true,
           "showland": true,
           "subunitcolor": "white"
          },
          "hoverlabel": {
           "align": "left"
          },
          "hovermode": "closest",
          "mapbox": {
           "style": "light"
          },
          "paper_bgcolor": "white",
          "plot_bgcolor": "#E5ECF6",
          "polar": {
           "angularaxis": {
            "gridcolor": "white",
            "linecolor": "white",
            "ticks": ""
           },
           "bgcolor": "#E5ECF6",
           "radialaxis": {
            "gridcolor": "white",
            "linecolor": "white",
            "ticks": ""
           }
          },
          "scene": {
           "xaxis": {
            "backgroundcolor": "#E5ECF6",
            "gridcolor": "white",
            "gridwidth": 2,
            "linecolor": "white",
            "showbackground": true,
            "ticks": "",
            "zerolinecolor": "white"
           },
           "yaxis": {
            "backgroundcolor": "#E5ECF6",
            "gridcolor": "white",
            "gridwidth": 2,
            "linecolor": "white",
            "showbackground": true,
            "ticks": "",
            "zerolinecolor": "white"
           },
           "zaxis": {
            "backgroundcolor": "#E5ECF6",
            "gridcolor": "white",
            "gridwidth": 2,
            "linecolor": "white",
            "showbackground": true,
            "ticks": "",
            "zerolinecolor": "white"
           }
          },
          "shapedefaults": {
           "line": {
            "color": "#2a3f5f"
           }
          },
          "ternary": {
           "aaxis": {
            "gridcolor": "white",
            "linecolor": "white",
            "ticks": ""
           },
           "baxis": {
            "gridcolor": "white",
            "linecolor": "white",
            "ticks": ""
           },
           "bgcolor": "#E5ECF6",
           "caxis": {
            "gridcolor": "white",
            "linecolor": "white",
            "ticks": ""
           }
          },
          "title": {
           "x": 0.05
          },
          "xaxis": {
           "automargin": true,
           "gridcolor": "white",
           "linecolor": "white",
           "ticks": "",
           "title": {
            "standoff": 15
           },
           "zerolinecolor": "white",
           "zerolinewidth": 2
          },
          "yaxis": {
           "automargin": true,
           "gridcolor": "white",
           "linecolor": "white",
           "ticks": "",
           "title": {
            "standoff": 15
           },
           "zerolinecolor": "white",
           "zerolinewidth": 2
          }
         }
        },
        "title": {
         "text": "<b>Return Customer Distribution</b>"
        },
        "width": 600
       }
      }
     },
     "metadata": {},
     "output_type": "display_data"
    }
   ],
   "source": [
    "\n",
    "return_counts = df['Return Customer'].value_counts()\n",
    "return_df=return_counts.reset_index()\n",
    "return_df.columns=['Return Status','Count']\n",
    "return_df['Return Status']= return_df['Return Status'].map({True:'Return',False:'Not Return'})\n",
    "colors=['orange','lightgreen']\n",
    "fig =px.pie(\n",
    "    return_df,\n",
    "    names=\"Return Status\",\n",
    "    values='Count',\n",
    "    title='<b>Return Customer Distribution</b>',\n",
    "   color_discrete_sequence=colors,\n",
    "   hole=0.3\n",
    ")\n",
    "fig.update_layout(\n",
    "    height=500,\n",
    "    width=600\n",
    ")\n",
    "fig.update_traces(textinfo='percent+label')\n",
    "fig.show()\n"
   ]
  },
  {
   "cell_type": "markdown",
   "id": "c4d74cf1",
   "metadata": {},
   "source": [
    "#### Q5: What is the average review score given by customers?"
   ]
  },
  {
   "cell_type": "code",
   "execution_count": 104,
   "id": "2f05d5e5",
   "metadata": {},
   "outputs": [
    {
     "data": {
      "application/vnd.plotly.v1+json": {
       "config": {
        "plotlyServerURL": "https://plot.ly"
       },
       "data": [
        {
         "hovertemplate": "Review Score=%{marker.color}<br>Count=%{text}<extra></extra>",
         "legendgroup": "",
         "marker": {
          "color": {
           "bdata": "AQIDBAU=",
           "dtype": "i1"
          },
          "coloraxis": "coloraxis",
          "pattern": {
           "shape": ""
          }
         },
         "name": "",
         "orientation": "v",
         "showlegend": false,
         "text": {
          "bdata": "AAAAAADsnkAAAAAAAJCfQAAAAAAANJ9AAAAAAAA+oEAAAAAAABSeQA==",
          "dtype": "f8"
         },
         "textposition": "outside",
         "type": "bar",
         "x": {
          "bdata": "AQIDBAU=",
          "dtype": "i1"
         },
         "xaxis": "x",
         "y": {
          "bdata": "uwfkB80HHwiFBw==",
          "dtype": "i2"
         },
         "yaxis": "y"
        }
       ],
       "layout": {
        "barmode": "relative",
        "coloraxis": {
         "colorbar": {
          "title": {
           "text": "Review Score"
          }
         },
         "colorscale": [
          [
           0,
           "#0d0887"
          ],
          [
           0.1111111111111111,
           "#46039f"
          ],
          [
           0.2222222222222222,
           "#7201a8"
          ],
          [
           0.3333333333333333,
           "#9c179e"
          ],
          [
           0.4444444444444444,
           "#bd3786"
          ],
          [
           0.5555555555555556,
           "#d8576b"
          ],
          [
           0.6666666666666666,
           "#ed7953"
          ],
          [
           0.7777777777777778,
           "#fb9f3a"
          ],
          [
           0.8888888888888888,
           "#fdca26"
          ],
          [
           1,
           "#f0f921"
          ]
         ]
        },
        "height": 500,
        "legend": {
         "tracegroupgap": 0
        },
        "margin": {
         "t": 60
        },
        "template": {
         "data": {
          "bar": [
           {
            "error_x": {
             "color": "#2a3f5f"
            },
            "error_y": {
             "color": "#2a3f5f"
            },
            "marker": {
             "line": {
              "color": "white",
              "width": 0.5
             },
             "pattern": {
              "fillmode": "overlay",
              "size": 10,
              "solidity": 0.2
             }
            },
            "type": "bar"
           }
          ],
          "barpolar": [
           {
            "marker": {
             "line": {
              "color": "white",
              "width": 0.5
             },
             "pattern": {
              "fillmode": "overlay",
              "size": 10,
              "solidity": 0.2
             }
            },
            "type": "barpolar"
           }
          ],
          "carpet": [
           {
            "aaxis": {
             "endlinecolor": "#2a3f5f",
             "gridcolor": "#C8D4E3",
             "linecolor": "#C8D4E3",
             "minorgridcolor": "#C8D4E3",
             "startlinecolor": "#2a3f5f"
            },
            "baxis": {
             "endlinecolor": "#2a3f5f",
             "gridcolor": "#C8D4E3",
             "linecolor": "#C8D4E3",
             "minorgridcolor": "#C8D4E3",
             "startlinecolor": "#2a3f5f"
            },
            "type": "carpet"
           }
          ],
          "choropleth": [
           {
            "colorbar": {
             "outlinewidth": 0,
             "ticks": ""
            },
            "type": "choropleth"
           }
          ],
          "contour": [
           {
            "colorbar": {
             "outlinewidth": 0,
             "ticks": ""
            },
            "colorscale": [
             [
              0,
              "#0d0887"
             ],
             [
              0.1111111111111111,
              "#46039f"
             ],
             [
              0.2222222222222222,
              "#7201a8"
             ],
             [
              0.3333333333333333,
              "#9c179e"
             ],
             [
              0.4444444444444444,
              "#bd3786"
             ],
             [
              0.5555555555555556,
              "#d8576b"
             ],
             [
              0.6666666666666666,
              "#ed7953"
             ],
             [
              0.7777777777777778,
              "#fb9f3a"
             ],
             [
              0.8888888888888888,
              "#fdca26"
             ],
             [
              1,
              "#f0f921"
             ]
            ],
            "type": "contour"
           }
          ],
          "contourcarpet": [
           {
            "colorbar": {
             "outlinewidth": 0,
             "ticks": ""
            },
            "type": "contourcarpet"
           }
          ],
          "heatmap": [
           {
            "colorbar": {
             "outlinewidth": 0,
             "ticks": ""
            },
            "colorscale": [
             [
              0,
              "#0d0887"
             ],
             [
              0.1111111111111111,
              "#46039f"
             ],
             [
              0.2222222222222222,
              "#7201a8"
             ],
             [
              0.3333333333333333,
              "#9c179e"
             ],
             [
              0.4444444444444444,
              "#bd3786"
             ],
             [
              0.5555555555555556,
              "#d8576b"
             ],
             [
              0.6666666666666666,
              "#ed7953"
             ],
             [
              0.7777777777777778,
              "#fb9f3a"
             ],
             [
              0.8888888888888888,
              "#fdca26"
             ],
             [
              1,
              "#f0f921"
             ]
            ],
            "type": "heatmap"
           }
          ],
          "histogram": [
           {
            "marker": {
             "pattern": {
              "fillmode": "overlay",
              "size": 10,
              "solidity": 0.2
             }
            },
            "type": "histogram"
           }
          ],
          "histogram2d": [
           {
            "colorbar": {
             "outlinewidth": 0,
             "ticks": ""
            },
            "colorscale": [
             [
              0,
              "#0d0887"
             ],
             [
              0.1111111111111111,
              "#46039f"
             ],
             [
              0.2222222222222222,
              "#7201a8"
             ],
             [
              0.3333333333333333,
              "#9c179e"
             ],
             [
              0.4444444444444444,
              "#bd3786"
             ],
             [
              0.5555555555555556,
              "#d8576b"
             ],
             [
              0.6666666666666666,
              "#ed7953"
             ],
             [
              0.7777777777777778,
              "#fb9f3a"
             ],
             [
              0.8888888888888888,
              "#fdca26"
             ],
             [
              1,
              "#f0f921"
             ]
            ],
            "type": "histogram2d"
           }
          ],
          "histogram2dcontour": [
           {
            "colorbar": {
             "outlinewidth": 0,
             "ticks": ""
            },
            "colorscale": [
             [
              0,
              "#0d0887"
             ],
             [
              0.1111111111111111,
              "#46039f"
             ],
             [
              0.2222222222222222,
              "#7201a8"
             ],
             [
              0.3333333333333333,
              "#9c179e"
             ],
             [
              0.4444444444444444,
              "#bd3786"
             ],
             [
              0.5555555555555556,
              "#d8576b"
             ],
             [
              0.6666666666666666,
              "#ed7953"
             ],
             [
              0.7777777777777778,
              "#fb9f3a"
             ],
             [
              0.8888888888888888,
              "#fdca26"
             ],
             [
              1,
              "#f0f921"
             ]
            ],
            "type": "histogram2dcontour"
           }
          ],
          "mesh3d": [
           {
            "colorbar": {
             "outlinewidth": 0,
             "ticks": ""
            },
            "type": "mesh3d"
           }
          ],
          "parcoords": [
           {
            "line": {
             "colorbar": {
              "outlinewidth": 0,
              "ticks": ""
             }
            },
            "type": "parcoords"
           }
          ],
          "pie": [
           {
            "automargin": true,
            "type": "pie"
           }
          ],
          "scatter": [
           {
            "fillpattern": {
             "fillmode": "overlay",
             "size": 10,
             "solidity": 0.2
            },
            "type": "scatter"
           }
          ],
          "scatter3d": [
           {
            "line": {
             "colorbar": {
              "outlinewidth": 0,
              "ticks": ""
             }
            },
            "marker": {
             "colorbar": {
              "outlinewidth": 0,
              "ticks": ""
             }
            },
            "type": "scatter3d"
           }
          ],
          "scattercarpet": [
           {
            "marker": {
             "colorbar": {
              "outlinewidth": 0,
              "ticks": ""
             }
            },
            "type": "scattercarpet"
           }
          ],
          "scattergeo": [
           {
            "marker": {
             "colorbar": {
              "outlinewidth": 0,
              "ticks": ""
             }
            },
            "type": "scattergeo"
           }
          ],
          "scattergl": [
           {
            "marker": {
             "colorbar": {
              "outlinewidth": 0,
              "ticks": ""
             }
            },
            "type": "scattergl"
           }
          ],
          "scattermap": [
           {
            "marker": {
             "colorbar": {
              "outlinewidth": 0,
              "ticks": ""
             }
            },
            "type": "scattermap"
           }
          ],
          "scattermapbox": [
           {
            "marker": {
             "colorbar": {
              "outlinewidth": 0,
              "ticks": ""
             }
            },
            "type": "scattermapbox"
           }
          ],
          "scatterpolar": [
           {
            "marker": {
             "colorbar": {
              "outlinewidth": 0,
              "ticks": ""
             }
            },
            "type": "scatterpolar"
           }
          ],
          "scatterpolargl": [
           {
            "marker": {
             "colorbar": {
              "outlinewidth": 0,
              "ticks": ""
             }
            },
            "type": "scatterpolargl"
           }
          ],
          "scatterternary": [
           {
            "marker": {
             "colorbar": {
              "outlinewidth": 0,
              "ticks": ""
             }
            },
            "type": "scatterternary"
           }
          ],
          "surface": [
           {
            "colorbar": {
             "outlinewidth": 0,
             "ticks": ""
            },
            "colorscale": [
             [
              0,
              "#0d0887"
             ],
             [
              0.1111111111111111,
              "#46039f"
             ],
             [
              0.2222222222222222,
              "#7201a8"
             ],
             [
              0.3333333333333333,
              "#9c179e"
             ],
             [
              0.4444444444444444,
              "#bd3786"
             ],
             [
              0.5555555555555556,
              "#d8576b"
             ],
             [
              0.6666666666666666,
              "#ed7953"
             ],
             [
              0.7777777777777778,
              "#fb9f3a"
             ],
             [
              0.8888888888888888,
              "#fdca26"
             ],
             [
              1,
              "#f0f921"
             ]
            ],
            "type": "surface"
           }
          ],
          "table": [
           {
            "cells": {
             "fill": {
              "color": "#EBF0F8"
             },
             "line": {
              "color": "white"
             }
            },
            "header": {
             "fill": {
              "color": "#C8D4E3"
             },
             "line": {
              "color": "white"
             }
            },
            "type": "table"
           }
          ]
         },
         "layout": {
          "annotationdefaults": {
           "arrowcolor": "#2a3f5f",
           "arrowhead": 0,
           "arrowwidth": 1
          },
          "autotypenumbers": "strict",
          "coloraxis": {
           "colorbar": {
            "outlinewidth": 0,
            "ticks": ""
           }
          },
          "colorscale": {
           "diverging": [
            [
             0,
             "#8e0152"
            ],
            [
             0.1,
             "#c51b7d"
            ],
            [
             0.2,
             "#de77ae"
            ],
            [
             0.3,
             "#f1b6da"
            ],
            [
             0.4,
             "#fde0ef"
            ],
            [
             0.5,
             "#f7f7f7"
            ],
            [
             0.6,
             "#e6f5d0"
            ],
            [
             0.7,
             "#b8e186"
            ],
            [
             0.8,
             "#7fbc41"
            ],
            [
             0.9,
             "#4d9221"
            ],
            [
             1,
             "#276419"
            ]
           ],
           "sequential": [
            [
             0,
             "#0d0887"
            ],
            [
             0.1111111111111111,
             "#46039f"
            ],
            [
             0.2222222222222222,
             "#7201a8"
            ],
            [
             0.3333333333333333,
             "#9c179e"
            ],
            [
             0.4444444444444444,
             "#bd3786"
            ],
            [
             0.5555555555555556,
             "#d8576b"
            ],
            [
             0.6666666666666666,
             "#ed7953"
            ],
            [
             0.7777777777777778,
             "#fb9f3a"
            ],
            [
             0.8888888888888888,
             "#fdca26"
            ],
            [
             1,
             "#f0f921"
            ]
           ],
           "sequentialminus": [
            [
             0,
             "#0d0887"
            ],
            [
             0.1111111111111111,
             "#46039f"
            ],
            [
             0.2222222222222222,
             "#7201a8"
            ],
            [
             0.3333333333333333,
             "#9c179e"
            ],
            [
             0.4444444444444444,
             "#bd3786"
            ],
            [
             0.5555555555555556,
             "#d8576b"
            ],
            [
             0.6666666666666666,
             "#ed7953"
            ],
            [
             0.7777777777777778,
             "#fb9f3a"
            ],
            [
             0.8888888888888888,
             "#fdca26"
            ],
            [
             1,
             "#f0f921"
            ]
           ]
          },
          "colorway": [
           "#636efa",
           "#EF553B",
           "#00cc96",
           "#ab63fa",
           "#FFA15A",
           "#19d3f3",
           "#FF6692",
           "#B6E880",
           "#FF97FF",
           "#FECB52"
          ],
          "font": {
           "color": "#2a3f5f"
          },
          "geo": {
           "bgcolor": "white",
           "lakecolor": "white",
           "landcolor": "white",
           "showlakes": true,
           "showland": true,
           "subunitcolor": "#C8D4E3"
          },
          "hoverlabel": {
           "align": "left"
          },
          "hovermode": "closest",
          "mapbox": {
           "style": "light"
          },
          "paper_bgcolor": "white",
          "plot_bgcolor": "white",
          "polar": {
           "angularaxis": {
            "gridcolor": "#EBF0F8",
            "linecolor": "#EBF0F8",
            "ticks": ""
           },
           "bgcolor": "white",
           "radialaxis": {
            "gridcolor": "#EBF0F8",
            "linecolor": "#EBF0F8",
            "ticks": ""
           }
          },
          "scene": {
           "xaxis": {
            "backgroundcolor": "white",
            "gridcolor": "#DFE8F3",
            "gridwidth": 2,
            "linecolor": "#EBF0F8",
            "showbackground": true,
            "ticks": "",
            "zerolinecolor": "#EBF0F8"
           },
           "yaxis": {
            "backgroundcolor": "white",
            "gridcolor": "#DFE8F3",
            "gridwidth": 2,
            "linecolor": "#EBF0F8",
            "showbackground": true,
            "ticks": "",
            "zerolinecolor": "#EBF0F8"
           },
           "zaxis": {
            "backgroundcolor": "white",
            "gridcolor": "#DFE8F3",
            "gridwidth": 2,
            "linecolor": "#EBF0F8",
            "showbackground": true,
            "ticks": "",
            "zerolinecolor": "#EBF0F8"
           }
          },
          "shapedefaults": {
           "line": {
            "color": "#2a3f5f"
           }
          },
          "ternary": {
           "aaxis": {
            "gridcolor": "#DFE8F3",
            "linecolor": "#A2B1C6",
            "ticks": ""
           },
           "baxis": {
            "gridcolor": "#DFE8F3",
            "linecolor": "#A2B1C6",
            "ticks": ""
           },
           "bgcolor": "white",
           "caxis": {
            "gridcolor": "#DFE8F3",
            "linecolor": "#A2B1C6",
            "ticks": ""
           }
          },
          "title": {
           "x": 0.05
          },
          "xaxis": {
           "automargin": true,
           "gridcolor": "#EBF0F8",
           "linecolor": "#EBF0F8",
           "ticks": "",
           "title": {
            "standoff": 15
           },
           "zerolinecolor": "#EBF0F8",
           "zerolinewidth": 2
          },
          "yaxis": {
           "automargin": true,
           "gridcolor": "#EBF0F8",
           "linecolor": "#EBF0F8",
           "ticks": "",
           "title": {
            "standoff": 15
           },
           "zerolinecolor": "#EBF0F8",
           "zerolinewidth": 2
          }
         }
        },
        "title": {
         "text": "<b>Review Score Distribution (Average Rating: 3.00)</b>"
        },
        "width": 600,
        "xaxis": {
         "anchor": "y",
         "domain": [
          0,
          1
         ],
         "tickmode": "linear",
         "title": {
          "text": "Review Score"
         }
        },
        "yaxis": {
         "anchor": "x",
         "domain": [
          0,
          1
         ],
         "title": {
          "text": "Count"
         }
        }
       }
      }
     },
     "metadata": {},
     "output_type": "display_data"
    }
   ],
   "source": [
    "import plotly.express as px\n",
    "import pandas as pd\n",
    "\n",
    "average_rating = df['Review Score (1-5)'].mean()\n",
    "score_counts = df['Review Score (1-5)'].value_counts().sort_index()\n",
    "score_df = pd.DataFrame({\n",
    "    'Review Score': score_counts.index,\n",
    "    'Count': score_counts.values\n",
    "})\n",
    "\n",
    "\n",
    "fig = px.bar(\n",
    "    score_df,\n",
    "    x='Review Score',\n",
    "    y='Count',\n",
    "    text='Count',              \n",
    "    color='Review Score',     \n",
    "    color_discrete_sequence=px.colors.qualitative.Pastel\n",
    ")\n",
    "\n",
    "fig.update_traces(textposition='outside')  \n",
    "fig.update_layout(\n",
    "    height=500,\n",
    "    width=600,\n",
    "    title=f'<b>Review Score Distribution (Average Rating: {average_rating:.2f})</b>',\n",
    "    xaxis_title='Review Score',\n",
    "    yaxis_title='Count',\n",
    "    template='plotly_white',\n",
    "    xaxis=dict(tickmode='linear')\n",
    ")\n",
    "\n",
    "fig.show()\n"
   ]
  },
  {
   "cell_type": "markdown",
   "id": "1926048b",
   "metadata": {},
   "source": [
    "#### Q6: How does the average delivery time vary between subscription statuses (Free, Premium)?"
   ]
  },
  {
   "cell_type": "code",
   "execution_count": 130,
   "id": "d2da5974",
   "metadata": {},
   "outputs": [
    {
     "data": {
      "application/vnd.plotly.v1+json": {
       "config": {
        "plotlyServerURL": "https://plot.ly"
       },
       "data": [
        {
         "hovertemplate": "Subscription Status=%{x}<br>Delivery Time (days)=%{text}<extra></extra>",
         "legendgroup": "Free",
         "marker": {
          "color": "rgb(228,26,28)",
          "pattern": {
           "shape": ""
          }
         },
         "name": "Free",
         "orientation": "v",
         "showlegend": true,
         "text": {
          "bdata": "KGKxzg7bG0A=",
          "dtype": "f8"
         },
         "textposition": "outside",
         "texttemplate": "%{text:.2f}",
         "type": "bar",
         "x": [
          "Free"
         ],
         "xaxis": "x",
         "y": {
          "bdata": "KGKxzg7bG0A=",
          "dtype": "f8"
         },
         "yaxis": "y"
        },
        {
         "hovertemplate": "Subscription Status=%{x}<br>Delivery Time (days)=%{text}<extra></extra>",
         "legendgroup": "Premium",
         "marker": {
          "color": "rgb(55,126,184)",
          "pattern": {
           "shape": ""
          }
         },
         "name": "Premium",
         "orientation": "v",
         "showlegend": true,
         "text": {
          "bdata": "J5xRHglIHEA=",
          "dtype": "f8"
         },
         "textposition": "outside",
         "texttemplate": "%{text:.2f}",
         "type": "bar",
         "x": [
          "Premium"
         ],
         "xaxis": "x",
         "y": {
          "bdata": "J5xRHglIHEA=",
          "dtype": "f8"
         },
         "yaxis": "y"
        },
        {
         "hovertemplate": "Subscription Status=%{x}<br>Delivery Time (days)=%{text}<extra></extra>",
         "legendgroup": "Trial",
         "marker": {
          "color": "rgb(77,175,74)",
          "pattern": {
           "shape": ""
          }
         },
         "name": "Trial",
         "orientation": "v",
         "showlegend": true,
         "text": {
          "bdata": "/0WA7l8EHEA=",
          "dtype": "f8"
         },
         "textposition": "outside",
         "texttemplate": "%{text:.2f}",
         "type": "bar",
         "x": [
          "Trial"
         ],
         "xaxis": "x",
         "y": {
          "bdata": "/0WA7l8EHEA=",
          "dtype": "f8"
         },
         "yaxis": "y"
        }
       ],
       "layout": {
        "barmode": "relative",
        "height": 500,
        "legend": {
         "title": {
          "text": "Subscription Status"
         },
         "tracegroupgap": 0
        },
        "margin": {
         "t": 60
        },
        "template": {
         "data": {
          "bar": [
           {
            "error_x": {
             "color": "#2a3f5f"
            },
            "error_y": {
             "color": "#2a3f5f"
            },
            "marker": {
             "line": {
              "color": "white",
              "width": 0.5
             },
             "pattern": {
              "fillmode": "overlay",
              "size": 10,
              "solidity": 0.2
             }
            },
            "type": "bar"
           }
          ],
          "barpolar": [
           {
            "marker": {
             "line": {
              "color": "white",
              "width": 0.5
             },
             "pattern": {
              "fillmode": "overlay",
              "size": 10,
              "solidity": 0.2
             }
            },
            "type": "barpolar"
           }
          ],
          "carpet": [
           {
            "aaxis": {
             "endlinecolor": "#2a3f5f",
             "gridcolor": "#C8D4E3",
             "linecolor": "#C8D4E3",
             "minorgridcolor": "#C8D4E3",
             "startlinecolor": "#2a3f5f"
            },
            "baxis": {
             "endlinecolor": "#2a3f5f",
             "gridcolor": "#C8D4E3",
             "linecolor": "#C8D4E3",
             "minorgridcolor": "#C8D4E3",
             "startlinecolor": "#2a3f5f"
            },
            "type": "carpet"
           }
          ],
          "choropleth": [
           {
            "colorbar": {
             "outlinewidth": 0,
             "ticks": ""
            },
            "type": "choropleth"
           }
          ],
          "contour": [
           {
            "colorbar": {
             "outlinewidth": 0,
             "ticks": ""
            },
            "colorscale": [
             [
              0,
              "#0d0887"
             ],
             [
              0.1111111111111111,
              "#46039f"
             ],
             [
              0.2222222222222222,
              "#7201a8"
             ],
             [
              0.3333333333333333,
              "#9c179e"
             ],
             [
              0.4444444444444444,
              "#bd3786"
             ],
             [
              0.5555555555555556,
              "#d8576b"
             ],
             [
              0.6666666666666666,
              "#ed7953"
             ],
             [
              0.7777777777777778,
              "#fb9f3a"
             ],
             [
              0.8888888888888888,
              "#fdca26"
             ],
             [
              1,
              "#f0f921"
             ]
            ],
            "type": "contour"
           }
          ],
          "contourcarpet": [
           {
            "colorbar": {
             "outlinewidth": 0,
             "ticks": ""
            },
            "type": "contourcarpet"
           }
          ],
          "heatmap": [
           {
            "colorbar": {
             "outlinewidth": 0,
             "ticks": ""
            },
            "colorscale": [
             [
              0,
              "#0d0887"
             ],
             [
              0.1111111111111111,
              "#46039f"
             ],
             [
              0.2222222222222222,
              "#7201a8"
             ],
             [
              0.3333333333333333,
              "#9c179e"
             ],
             [
              0.4444444444444444,
              "#bd3786"
             ],
             [
              0.5555555555555556,
              "#d8576b"
             ],
             [
              0.6666666666666666,
              "#ed7953"
             ],
             [
              0.7777777777777778,
              "#fb9f3a"
             ],
             [
              0.8888888888888888,
              "#fdca26"
             ],
             [
              1,
              "#f0f921"
             ]
            ],
            "type": "heatmap"
           }
          ],
          "histogram": [
           {
            "marker": {
             "pattern": {
              "fillmode": "overlay",
              "size": 10,
              "solidity": 0.2
             }
            },
            "type": "histogram"
           }
          ],
          "histogram2d": [
           {
            "colorbar": {
             "outlinewidth": 0,
             "ticks": ""
            },
            "colorscale": [
             [
              0,
              "#0d0887"
             ],
             [
              0.1111111111111111,
              "#46039f"
             ],
             [
              0.2222222222222222,
              "#7201a8"
             ],
             [
              0.3333333333333333,
              "#9c179e"
             ],
             [
              0.4444444444444444,
              "#bd3786"
             ],
             [
              0.5555555555555556,
              "#d8576b"
             ],
             [
              0.6666666666666666,
              "#ed7953"
             ],
             [
              0.7777777777777778,
              "#fb9f3a"
             ],
             [
              0.8888888888888888,
              "#fdca26"
             ],
             [
              1,
              "#f0f921"
             ]
            ],
            "type": "histogram2d"
           }
          ],
          "histogram2dcontour": [
           {
            "colorbar": {
             "outlinewidth": 0,
             "ticks": ""
            },
            "colorscale": [
             [
              0,
              "#0d0887"
             ],
             [
              0.1111111111111111,
              "#46039f"
             ],
             [
              0.2222222222222222,
              "#7201a8"
             ],
             [
              0.3333333333333333,
              "#9c179e"
             ],
             [
              0.4444444444444444,
              "#bd3786"
             ],
             [
              0.5555555555555556,
              "#d8576b"
             ],
             [
              0.6666666666666666,
              "#ed7953"
             ],
             [
              0.7777777777777778,
              "#fb9f3a"
             ],
             [
              0.8888888888888888,
              "#fdca26"
             ],
             [
              1,
              "#f0f921"
             ]
            ],
            "type": "histogram2dcontour"
           }
          ],
          "mesh3d": [
           {
            "colorbar": {
             "outlinewidth": 0,
             "ticks": ""
            },
            "type": "mesh3d"
           }
          ],
          "parcoords": [
           {
            "line": {
             "colorbar": {
              "outlinewidth": 0,
              "ticks": ""
             }
            },
            "type": "parcoords"
           }
          ],
          "pie": [
           {
            "automargin": true,
            "type": "pie"
           }
          ],
          "scatter": [
           {
            "fillpattern": {
             "fillmode": "overlay",
             "size": 10,
             "solidity": 0.2
            },
            "type": "scatter"
           }
          ],
          "scatter3d": [
           {
            "line": {
             "colorbar": {
              "outlinewidth": 0,
              "ticks": ""
             }
            },
            "marker": {
             "colorbar": {
              "outlinewidth": 0,
              "ticks": ""
             }
            },
            "type": "scatter3d"
           }
          ],
          "scattercarpet": [
           {
            "marker": {
             "colorbar": {
              "outlinewidth": 0,
              "ticks": ""
             }
            },
            "type": "scattercarpet"
           }
          ],
          "scattergeo": [
           {
            "marker": {
             "colorbar": {
              "outlinewidth": 0,
              "ticks": ""
             }
            },
            "type": "scattergeo"
           }
          ],
          "scattergl": [
           {
            "marker": {
             "colorbar": {
              "outlinewidth": 0,
              "ticks": ""
             }
            },
            "type": "scattergl"
           }
          ],
          "scattermap": [
           {
            "marker": {
             "colorbar": {
              "outlinewidth": 0,
              "ticks": ""
             }
            },
            "type": "scattermap"
           }
          ],
          "scattermapbox": [
           {
            "marker": {
             "colorbar": {
              "outlinewidth": 0,
              "ticks": ""
             }
            },
            "type": "scattermapbox"
           }
          ],
          "scatterpolar": [
           {
            "marker": {
             "colorbar": {
              "outlinewidth": 0,
              "ticks": ""
             }
            },
            "type": "scatterpolar"
           }
          ],
          "scatterpolargl": [
           {
            "marker": {
             "colorbar": {
              "outlinewidth": 0,
              "ticks": ""
             }
            },
            "type": "scatterpolargl"
           }
          ],
          "scatterternary": [
           {
            "marker": {
             "colorbar": {
              "outlinewidth": 0,
              "ticks": ""
             }
            },
            "type": "scatterternary"
           }
          ],
          "surface": [
           {
            "colorbar": {
             "outlinewidth": 0,
             "ticks": ""
            },
            "colorscale": [
             [
              0,
              "#0d0887"
             ],
             [
              0.1111111111111111,
              "#46039f"
             ],
             [
              0.2222222222222222,
              "#7201a8"
             ],
             [
              0.3333333333333333,
              "#9c179e"
             ],
             [
              0.4444444444444444,
              "#bd3786"
             ],
             [
              0.5555555555555556,
              "#d8576b"
             ],
             [
              0.6666666666666666,
              "#ed7953"
             ],
             [
              0.7777777777777778,
              "#fb9f3a"
             ],
             [
              0.8888888888888888,
              "#fdca26"
             ],
             [
              1,
              "#f0f921"
             ]
            ],
            "type": "surface"
           }
          ],
          "table": [
           {
            "cells": {
             "fill": {
              "color": "#EBF0F8"
             },
             "line": {
              "color": "white"
             }
            },
            "header": {
             "fill": {
              "color": "#C8D4E3"
             },
             "line": {
              "color": "white"
             }
            },
            "type": "table"
           }
          ]
         },
         "layout": {
          "annotationdefaults": {
           "arrowcolor": "#2a3f5f",
           "arrowhead": 0,
           "arrowwidth": 1
          },
          "autotypenumbers": "strict",
          "coloraxis": {
           "colorbar": {
            "outlinewidth": 0,
            "ticks": ""
           }
          },
          "colorscale": {
           "diverging": [
            [
             0,
             "#8e0152"
            ],
            [
             0.1,
             "#c51b7d"
            ],
            [
             0.2,
             "#de77ae"
            ],
            [
             0.3,
             "#f1b6da"
            ],
            [
             0.4,
             "#fde0ef"
            ],
            [
             0.5,
             "#f7f7f7"
            ],
            [
             0.6,
             "#e6f5d0"
            ],
            [
             0.7,
             "#b8e186"
            ],
            [
             0.8,
             "#7fbc41"
            ],
            [
             0.9,
             "#4d9221"
            ],
            [
             1,
             "#276419"
            ]
           ],
           "sequential": [
            [
             0,
             "#0d0887"
            ],
            [
             0.1111111111111111,
             "#46039f"
            ],
            [
             0.2222222222222222,
             "#7201a8"
            ],
            [
             0.3333333333333333,
             "#9c179e"
            ],
            [
             0.4444444444444444,
             "#bd3786"
            ],
            [
             0.5555555555555556,
             "#d8576b"
            ],
            [
             0.6666666666666666,
             "#ed7953"
            ],
            [
             0.7777777777777778,
             "#fb9f3a"
            ],
            [
             0.8888888888888888,
             "#fdca26"
            ],
            [
             1,
             "#f0f921"
            ]
           ],
           "sequentialminus": [
            [
             0,
             "#0d0887"
            ],
            [
             0.1111111111111111,
             "#46039f"
            ],
            [
             0.2222222222222222,
             "#7201a8"
            ],
            [
             0.3333333333333333,
             "#9c179e"
            ],
            [
             0.4444444444444444,
             "#bd3786"
            ],
            [
             0.5555555555555556,
             "#d8576b"
            ],
            [
             0.6666666666666666,
             "#ed7953"
            ],
            [
             0.7777777777777778,
             "#fb9f3a"
            ],
            [
             0.8888888888888888,
             "#fdca26"
            ],
            [
             1,
             "#f0f921"
            ]
           ]
          },
          "colorway": [
           "#636efa",
           "#EF553B",
           "#00cc96",
           "#ab63fa",
           "#FFA15A",
           "#19d3f3",
           "#FF6692",
           "#B6E880",
           "#FF97FF",
           "#FECB52"
          ],
          "font": {
           "color": "#2a3f5f"
          },
          "geo": {
           "bgcolor": "white",
           "lakecolor": "white",
           "landcolor": "white",
           "showlakes": true,
           "showland": true,
           "subunitcolor": "#C8D4E3"
          },
          "hoverlabel": {
           "align": "left"
          },
          "hovermode": "closest",
          "mapbox": {
           "style": "light"
          },
          "paper_bgcolor": "white",
          "plot_bgcolor": "white",
          "polar": {
           "angularaxis": {
            "gridcolor": "#EBF0F8",
            "linecolor": "#EBF0F8",
            "ticks": ""
           },
           "bgcolor": "white",
           "radialaxis": {
            "gridcolor": "#EBF0F8",
            "linecolor": "#EBF0F8",
            "ticks": ""
           }
          },
          "scene": {
           "xaxis": {
            "backgroundcolor": "white",
            "gridcolor": "#DFE8F3",
            "gridwidth": 2,
            "linecolor": "#EBF0F8",
            "showbackground": true,
            "ticks": "",
            "zerolinecolor": "#EBF0F8"
           },
           "yaxis": {
            "backgroundcolor": "white",
            "gridcolor": "#DFE8F3",
            "gridwidth": 2,
            "linecolor": "#EBF0F8",
            "showbackground": true,
            "ticks": "",
            "zerolinecolor": "#EBF0F8"
           },
           "zaxis": {
            "backgroundcolor": "white",
            "gridcolor": "#DFE8F3",
            "gridwidth": 2,
            "linecolor": "#EBF0F8",
            "showbackground": true,
            "ticks": "",
            "zerolinecolor": "#EBF0F8"
           }
          },
          "shapedefaults": {
           "line": {
            "color": "#2a3f5f"
           }
          },
          "ternary": {
           "aaxis": {
            "gridcolor": "#DFE8F3",
            "linecolor": "#A2B1C6",
            "ticks": ""
           },
           "baxis": {
            "gridcolor": "#DFE8F3",
            "linecolor": "#A2B1C6",
            "ticks": ""
           },
           "bgcolor": "white",
           "caxis": {
            "gridcolor": "#DFE8F3",
            "linecolor": "#A2B1C6",
            "ticks": ""
           }
          },
          "title": {
           "x": 0.05
          },
          "xaxis": {
           "automargin": true,
           "gridcolor": "#EBF0F8",
           "linecolor": "#EBF0F8",
           "ticks": "",
           "title": {
            "standoff": 15
           },
           "zerolinecolor": "#EBF0F8",
           "zerolinewidth": 2
          },
          "yaxis": {
           "automargin": true,
           "gridcolor": "#EBF0F8",
           "linecolor": "#EBF0F8",
           "ticks": "",
           "title": {
            "standoff": 15
           },
           "zerolinecolor": "#EBF0F8",
           "zerolinewidth": 2
          }
         }
        },
        "title": {
         "text": "<b>Average Delivery Time by Subscription Type</b>"
        },
        "width": 600,
        "xaxis": {
         "anchor": "y",
         "categoryarray": [
          "Free",
          "Premium",
          "Trial"
         ],
         "categoryorder": "array",
         "domain": [
          0,
          1
         ],
         "title": {
          "text": "Subscription Status"
         }
        },
        "yaxis": {
         "anchor": "x",
         "domain": [
          0,
          1
         ],
         "title": {
          "text": "Average Delivery Time (days)"
         }
        }
       }
      }
     },
     "metadata": {},
     "output_type": "display_data"
    }
   ],
   "source": [
    "fig = px.bar(\n",
    "    df.groupby('Subscription Status', as_index=False)['Delivery Time (days)'].mean(),\n",
    "    x='Subscription Status',\n",
    "    y='Delivery Time (days)',\n",
    "    color='Subscription Status',\n",
    "    color_discrete_sequence=px.colors.qualitative.Set1,\n",
    "    text='Delivery Time (days)' \n",
    ")\n",
    "\n",
    "\n",
    "fig.update_traces(texttemplate='%{text:.2f}', textposition='outside')\n",
    "\n",
    "\n",
    "fig.update_layout(\n",
    "    height = 500,\n",
    "    width = 600,\n",
    "    title='<b>Average Delivery Time by Subscription Type</b>',\n",
    "    xaxis_title='Subscription Status',\n",
    "    yaxis_title='Average Delivery Time (days)',\n",
    "    template='plotly_white'\n",
    ")\n",
    "\n",
    "fig.show()\n"
   ]
  },
  {
   "cell_type": "markdown",
   "id": "97aba0c5",
   "metadata": {},
   "source": [
    "#### Q7: How many customers are subscribed to the service?"
   ]
  },
  {
   "cell_type": "code",
   "execution_count": 127,
   "id": "76aa154a",
   "metadata": {},
   "outputs": [
    {
     "data": {
      "image/png": "[encoded data removed]",
      "text/plain": [
       "<Figure size 800x800 with 1 Axes>"
      ]
     },
     "metadata": {},
     "output_type": "display_data"
    }
   ],
   "source": [
    "sub_counts = df['Subscription Status'].value_counts()\n",
    "labels = [f\"{label}\\n({count})\\n{percent:.1f}%\" \n",
    "          for label, count, percent in zip(\n",
    "              sub_counts.index, \n",
    "              sub_counts.values, \n",
    "              100 * sub_counts.values / sub_counts.values.sum()\n",
    "          )]\n",
    "\n",
    "\n",
    "plt.figure(figsize=(8, 8))\n",
    "\n",
    "wedges, texts = plt.pie(\n",
    "    sub_counts,\n",
    "    labels=labels,\n",
    "    colors=sns.color_palette('Set2'),\n",
    "    startangle=90,\n",
    "    wedgeprops=dict(width=0.4, edgecolor='white')\n",
    ")\n",
    "\n",
    "plt.title('Subscription Status Distribution', fontsize=16, fontweight='bold')\n",
    "\n",
    "plt.tight_layout()\n",
    "plt.show()\n"
   ]
  },
  {
   "cell_type": "markdown",
   "id": "5066b917",
   "metadata": {},
   "source": [
    "#### Q8: What percentage of customers used devices to make purchases? (Mobile, Desktop, Tablet)"
   ]
  },
  {
   "cell_type": "code",
   "execution_count": 139,
   "id": "fe8cb209",
   "metadata": {},
   "outputs": [
    {
     "data": {
      "application/vnd.plotly.v1+json": {
       "config": {
        "plotlyServerURL": "https://plot.ly"
       },
       "data": [
        {
         "customdata": [
          [
           33.74,
           "Mobile"
          ],
          [
           33.48,
           "Desktop"
          ],
          [
           32.78,
           "Tablet"
          ]
         ],
         "domain": {
          "x": [
           0,
           1
          ],
          "y": [
           0,
           1
          ]
         },
         "hole": 0,
         "hovertemplate": "Device Type=%{customdata[1]}<br>Count=%{value}<br>Percentage=%{customdata[0]}<extra></extra>",
         "insidetextorientation": "radial",
         "labels": [
          "Mobile",
          "Desktop",
          "Tablet"
         ],
         "legendgroup": "",
         "marker": {
          "colors": [
           "rgb(102, 197, 204)",
           "rgb(246, 207, 113)",
           "rgb(248, 156, 116)"
          ],
          "line": {
           "color": "white",
           "width": 2
          }
         },
         "name": "",
         "pull": [
          0.1,
          0,
          0
         ],
         "showlegend": true,
         "text": [
          "Mobile<br>3374 (33.7%)",
          "Desktop<br>3348 (33.5%)",
          "Tablet<br>3278 (32.8%)"
         ],
         "textinfo": "text",
         "textposition": "inside",
         "type": "pie",
         "values": {
          "bdata": "Lg0UDc4M",
          "dtype": "i2"
         }
        }
       ],
       "layout": {
        "height": 500,
        "legend": {
         "title": {
          "text": "Device Type"
         },
         "tracegroupgap": 0
        },
        "margin": {
         "t": 60
        },
        "piecolorway": [
         "rgb(102, 197, 204)",
         "rgb(246, 207, 113)",
         "rgb(248, 156, 116)",
         "rgb(220, 176, 242)",
         "rgb(135, 197, 95)",
         "rgb(158, 185, 243)",
         "rgb(254, 136, 177)",
         "rgb(201, 219, 116)",
         "rgb(139, 224, 164)",
         "rgb(180, 151, 231)",
         "rgb(179, 179, 179)"
        ],
        "template": {
         "data": {
          "bar": [
           {
            "error_x": {
             "color": "#2a3f5f"
            },
            "error_y": {
             "color": "#2a3f5f"
            },
            "marker": {
             "line": {
              "color": "white",
              "width": 0.5
             },
             "pattern": {
              "fillmode": "overlay",
              "size": 10,
              "solidity": 0.2
             }
            },
            "type": "bar"
           }
          ],
          "barpolar": [
           {
            "marker": {
             "line": {
              "color": "white",
              "width": 0.5
             },
             "pattern": {
              "fillmode": "overlay",
              "size": 10,
              "solidity": 0.2
             }
            },
            "type": "barpolar"
           }
          ],
          "carpet": [
           {
            "aaxis": {
             "endlinecolor": "#2a3f5f",
             "gridcolor": "#C8D4E3",
             "linecolor": "#C8D4E3",
             "minorgridcolor": "#C8D4E3",
             "startlinecolor": "#2a3f5f"
            },
            "baxis": {
             "endlinecolor": "#2a3f5f",
             "gridcolor": "#C8D4E3",
             "linecolor": "#C8D4E3",
             "minorgridcolor": "#C8D4E3",
             "startlinecolor": "#2a3f5f"
            },
            "type": "carpet"
           }
          ],
          "choropleth": [
           {
            "colorbar": {
             "outlinewidth": 0,
             "ticks": ""
            },
            "type": "choropleth"
           }
          ],
          "contour": [
           {
            "colorbar": {
             "outlinewidth": 0,
             "ticks": ""
            },
            "colorscale": [
             [
              0,
              "#0d0887"
             ],
             [
              0.1111111111111111,
              "#46039f"
             ],
             [
              0.2222222222222222,
              "#7201a8"
             ],
             [
              0.3333333333333333,
              "#9c179e"
             ],
             [
              0.4444444444444444,
              "#bd3786"
             ],
             [
              0.5555555555555556,
              "#d8576b"
             ],
             [
              0.6666666666666666,
              "#ed7953"
             ],
             [
              0.7777777777777778,
              "#fb9f3a"
             ],
             [
              0.8888888888888888,
              "#fdca26"
             ],
             [
              1,
              "#f0f921"
             ]
            ],
            "type": "contour"
           }
          ],
          "contourcarpet": [
           {
            "colorbar": {
             "outlinewidth": 0,
             "ticks": ""
            },
            "type": "contourcarpet"
           }
          ],
          "heatmap": [
           {
            "colorbar": {
             "outlinewidth": 0,
             "ticks": ""
            },
            "colorscale": [
             [
              0,
              "#0d0887"
             ],
             [
              0.1111111111111111,
              "#46039f"
             ],
             [
              0.2222222222222222,
              "#7201a8"
             ],
             [
              0.3333333333333333,
              "#9c179e"
             ],
             [
              0.4444444444444444,
              "#bd3786"
             ],
             [
              0.5555555555555556,
              "#d8576b"
             ],
             [
              0.6666666666666666,
              "#ed7953"
             ],
             [
              0.7777777777777778,
              "#fb9f3a"
             ],
             [
              0.8888888888888888,
              "#fdca26"
             ],
             [
              1,
              "#f0f921"
             ]
            ],
            "type": "heatmap"
           }
          ],
          "histogram": [
           {
            "marker": {
             "pattern": {
              "fillmode": "overlay",
              "size": 10,
              "solidity": 0.2
             }
            },
            "type": "histogram"
           }
          ],
          "histogram2d": [
           {
            "colorbar": {
             "outlinewidth": 0,
             "ticks": ""
            },
            "colorscale": [
             [
              0,
              "#0d0887"
             ],
             [
              0.1111111111111111,
              "#46039f"
             ],
             [
              0.2222222222222222,
              "#7201a8"
             ],
             [
              0.3333333333333333,
              "#9c179e"
             ],
             [
              0.4444444444444444,
              "#bd3786"
             ],
             [
              0.5555555555555556,
              "#d8576b"
             ],
             [
              0.6666666666666666,
              "#ed7953"
             ],
             [
              0.7777777777777778,
              "#fb9f3a"
             ],
             [
              0.8888888888888888,
              "#fdca26"
             ],
             [
              1,
              "#f0f921"
             ]
            ],
            "type": "histogram2d"
           }
          ],
          "histogram2dcontour": [
           {
            "colorbar": {
             "outlinewidth": 0,
             "ticks": ""
            },
            "colorscale": [
             [
              0,
              "#0d0887"
             ],
             [
              0.1111111111111111,
              "#46039f"
             ],
             [
              0.2222222222222222,
              "#7201a8"
             ],
             [
              0.3333333333333333,
              "#9c179e"
             ],
             [
              0.4444444444444444,
              "#bd3786"
             ],
             [
              0.5555555555555556,
              "#d8576b"
             ],
             [
              0.6666666666666666,
              "#ed7953"
             ],
             [
              0.7777777777777778,
              "#fb9f3a"
             ],
             [
              0.8888888888888888,
              "#fdca26"
             ],
             [
              1,
              "#f0f921"
             ]
            ],
            "type": "histogram2dcontour"
           }
          ],
          "mesh3d": [
           {
            "colorbar": {
             "outlinewidth": 0,
             "ticks": ""
            },
            "type": "mesh3d"
           }
          ],
          "parcoords": [
           {
            "line": {
             "colorbar": {
              "outlinewidth": 0,
              "ticks": ""
             }
            },
            "type": "parcoords"
           }
          ],
          "pie": [
           {
            "automargin": true,
            "type": "pie"
           }
          ],
          "scatter": [
           {
            "fillpattern": {
             "fillmode": "overlay",
             "size": 10,
             "solidity": 0.2
            },
            "type": "scatter"
           }
          ],
          "scatter3d": [
           {
            "line": {
             "colorbar": {
              "outlinewidth": 0,
              "ticks": ""
             }
            },
            "marker": {
             "colorbar": {
              "outlinewidth": 0,
              "ticks": ""
             }
            },
            "type": "scatter3d"
           }
          ],
          "scattercarpet": [
           {
            "marker": {
             "colorbar": {
              "outlinewidth": 0,
              "ticks": ""
             }
            },
            "type": "scattercarpet"
           }
          ],
          "scattergeo": [
           {
            "marker": {
             "colorbar": {
              "outlinewidth": 0,
              "ticks": ""
             }
            },
            "type": "scattergeo"
           }
          ],
          "scattergl": [
           {
            "marker": {
             "colorbar": {
              "outlinewidth": 0,
              "ticks": ""
             }
            },
            "type": "scattergl"
           }
          ],
          "scattermap": [
           {
            "marker": {
             "colorbar": {
              "outlinewidth": 0,
              "ticks": ""
             }
            },
            "type": "scattermap"
           }
          ],
          "scattermapbox": [
           {
            "marker": {
             "colorbar": {
              "outlinewidth": 0,
              "ticks": ""
             }
            },
            "type": "scattermapbox"
           }
          ],
          "scatterpolar": [
           {
            "marker": {
             "colorbar": {
              "outlinewidth": 0,
              "ticks": ""
             }
            },
            "type": "scatterpolar"
           }
          ],
          "scatterpolargl": [
           {
            "marker": {
             "colorbar": {
              "outlinewidth": 0,
              "ticks": ""
             }
            },
            "type": "scatterpolargl"
           }
          ],
          "scatterternary": [
           {
            "marker": {
             "colorbar": {
              "outlinewidth": 0,
              "ticks": ""
             }
            },
            "type": "scatterternary"
           }
          ],
          "surface": [
           {
            "colorbar": {
             "outlinewidth": 0,
             "ticks": ""
            },
            "colorscale": [
             [
              0,
              "#0d0887"
             ],
             [
              0.1111111111111111,
              "#46039f"
             ],
             [
              0.2222222222222222,
              "#7201a8"
             ],
             [
              0.3333333333333333,
              "#9c179e"
             ],
             [
              0.4444444444444444,
              "#bd3786"
             ],
             [
              0.5555555555555556,
              "#d8576b"
             ],
             [
              0.6666666666666666,
              "#ed7953"
             ],
             [
              0.7777777777777778,
              "#fb9f3a"
             ],
             [
              0.8888888888888888,
              "#fdca26"
             ],
             [
              1,
              "#f0f921"
             ]
            ],
            "type": "surface"
           }
          ],
          "table": [
           {
            "cells": {
             "fill": {
              "color": "#EBF0F8"
             },
             "line": {
              "color": "white"
             }
            },
            "header": {
             "fill": {
              "color": "#C8D4E3"
             },
             "line": {
              "color": "white"
             }
            },
            "type": "table"
           }
          ]
         },
         "layout": {
          "annotationdefaults": {
           "arrowcolor": "#2a3f5f",
           "arrowhead": 0,
           "arrowwidth": 1
          },
          "autotypenumbers": "strict",
          "coloraxis": {
           "colorbar": {
            "outlinewidth": 0,
            "ticks": ""
           }
          },
          "colorscale": {
           "diverging": [
            [
             0,
             "#8e0152"
            ],
            [
             0.1,
             "#c51b7d"
            ],
            [
             0.2,
             "#de77ae"
            ],
            [
             0.3,
             "#f1b6da"
            ],
            [
             0.4,
             "#fde0ef"
            ],
            [
             0.5,
             "#f7f7f7"
            ],
            [
             0.6,
             "#e6f5d0"
            ],
            [
             0.7,
             "#b8e186"
            ],
            [
             0.8,
             "#7fbc41"
            ],
            [
             0.9,
             "#4d9221"
            ],
            [
             1,
             "#276419"
            ]
           ],
           "sequential": [
            [
             0,
             "#0d0887"
            ],
            [
             0.1111111111111111,
             "#46039f"
            ],
            [
             0.2222222222222222,
             "#7201a8"
            ],
            [
             0.3333333333333333,
             "#9c179e"
            ],
            [
             0.4444444444444444,
             "#bd3786"
            ],
            [
             0.5555555555555556,
             "#d8576b"
            ],
            [
             0.6666666666666666,
             "#ed7953"
            ],
            [
             0.7777777777777778,
             "#fb9f3a"
            ],
            [
             0.8888888888888888,
             "#fdca26"
            ],
            [
             1,
             "#f0f921"
            ]
           ],
           "sequentialminus": [
            [
             0,
             "#0d0887"
            ],
            [
             0.1111111111111111,
             "#46039f"
            ],
            [
             0.2222222222222222,
             "#7201a8"
            ],
            [
             0.3333333333333333,
             "#9c179e"
            ],
            [
             0.4444444444444444,
             "#bd3786"
            ],
            [
             0.5555555555555556,
             "#d8576b"
            ],
            [
             0.6666666666666666,
             "#ed7953"
            ],
            [
             0.7777777777777778,
             "#fb9f3a"
            ],
            [
             0.8888888888888888,
             "#fdca26"
            ],
            [
             1,
             "#f0f921"
            ]
           ]
          },
          "colorway": [
           "#636efa",
           "#EF553B",
           "#00cc96",
           "#ab63fa",
           "#FFA15A",
           "#19d3f3",
           "#FF6692",
           "#B6E880",
           "#FF97FF",
           "#FECB52"
          ],
          "font": {
           "color": "#2a3f5f"
          },
          "geo": {
           "bgcolor": "white",
           "lakecolor": "white",
           "landcolor": "white",
           "showlakes": true,
           "showland": true,
           "subunitcolor": "#C8D4E3"
          },
          "hoverlabel": {
           "align": "left"
          },
          "hovermode": "closest",
          "mapbox": {
           "style": "light"
          },
          "paper_bgcolor": "white",
          "plot_bgcolor": "white",
          "polar": {
           "angularaxis": {
            "gridcolor": "#EBF0F8",
            "linecolor": "#EBF0F8",
            "ticks": ""
           },
           "bgcolor": "white",
           "radialaxis": {
            "gridcolor": "#EBF0F8",
            "linecolor": "#EBF0F8",
            "ticks": ""
           }
          },
          "scene": {
           "xaxis": {
            "backgroundcolor": "white",
            "gridcolor": "#DFE8F3",
            "gridwidth": 2,
            "linecolor": "#EBF0F8",
            "showbackground": true,
            "ticks": "",
            "zerolinecolor": "#EBF0F8"
           },
           "yaxis": {
            "backgroundcolor": "white",
            "gridcolor": "#DFE8F3",
            "gridwidth": 2,
            "linecolor": "#EBF0F8",
            "showbackground": true,
            "ticks": "",
            "zerolinecolor": "#EBF0F8"
           },
           "zaxis": {
            "backgroundcolor": "white",
            "gridcolor": "#DFE8F3",
            "gridwidth": 2,
            "linecolor": "#EBF0F8",
            "showbackground": true,
            "ticks": "",
            "zerolinecolor": "#EBF0F8"
           }
          },
          "shapedefaults": {
           "line": {
            "color": "#2a3f5f"
           }
          },
          "ternary": {
           "aaxis": {
            "gridcolor": "#DFE8F3",
            "linecolor": "#A2B1C6",
            "ticks": ""
           },
           "baxis": {
            "gridcolor": "#DFE8F3",
            "linecolor": "#A2B1C6",
            "ticks": ""
           },
           "bgcolor": "white",
           "caxis": {
            "gridcolor": "#DFE8F3",
            "linecolor": "#A2B1C6",
            "ticks": ""
           }
          },
          "title": {
           "x": 0.05
          },
          "xaxis": {
           "automargin": true,
           "gridcolor": "#EBF0F8",
           "linecolor": "#EBF0F8",
           "ticks": "",
           "title": {
            "standoff": 15
           },
           "zerolinecolor": "#EBF0F8",
           "zerolinewidth": 2
          },
          "yaxis": {
           "automargin": true,
           "gridcolor": "#EBF0F8",
           "linecolor": "#EBF0F8",
           "ticks": "",
           "title": {
            "standoff": 15
           },
           "zerolinecolor": "#EBF0F8",
           "zerolinewidth": 2
          }
         }
        },
        "title": {
         "text": "📱 Device Usage Distribution",
         "x": 0.5
        },
        "width": 600
       }
      }
     },
     "metadata": {},
     "output_type": "display_data"
    }
   ],
   "source": [
    "\n",
    "device_usage = df['Device Type'].value_counts().reset_index()\n",
    "device_usage.columns = ['Device Type', 'Count']\n",
    "\n",
    "\n",
    "device_usage['Percentage'] = 100 * device_usage['Count'] / device_usage['Count'].sum()\n",
    "\n",
    "\n",
    "device_usage['label_text'] = device_usage.apply(\n",
    "    lambda row: f\"{row['Device Type']}<br>{row['Count']} ({row['Percentage']:.1f}%)\", axis=1\n",
    ")\n",
    "\n",
    "\n",
    "pulls = [0.1 if i == 0 else 0 for i in range(len(device_usage))]  # largest slice first row\n",
    "\n",
    "fig = px.pie(\n",
    "    device_usage,\n",
    "    values='Count',\n",
    "    names='Device Type',\n",
    "    hole=0,  # 0 for pie, >0 for donut\n",
    "    color='Device Type',\n",
    "    color_discrete_sequence=px.colors.qualitative.Pastel,\n",
    "    hover_data=['Percentage'],\n",
    ")\n",
    "\n",
    "fig.update_traces(\n",
    "    text=device_usage['label_text'],\n",
    "    textinfo='text',\n",
    "    pull=pulls,\n",
    "    textposition='inside',\n",
    "    insidetextorientation='radial',\n",
    "    marker=dict(line=dict(color='white', width=2))\n",
    ")\n",
    "\n",
    "fig.update_layout(\n",
    "    height = 500,\n",
    "    width = 600,\n",
    "    title_text='📱 Device Usage Distribution',\n",
    "    title_x=0.5,\n",
    "    legend_title_text='Device Type',\n",
    "    template='plotly_white',\n",
    ")\n",
    "\n",
    "fig.show()\n"
   ]
  },
  {
   "cell_type": "markdown",
   "id": "1f4cdb69",
   "metadata": {},
   "source": [
    "#### Q9: What is the average purchase amount for customers who availed discounts compared to those who didnʼt?"
   ]
  },
  {
   "cell_type": "code",
   "execution_count": 144,
   "id": "2d5a66f2",
   "metadata": {},
   "outputs": [
    {
     "data": {
      "application/vnd.plotly.v1+json": {
       "config": {
        "plotlyServerURL": "https://plot.ly"
       },
       "data": [
        {
         "hovertemplate": "Discount Availed=%{x}<br>Purchase Amount ($)=%{marker.color}<extra></extra>",
         "legendgroup": "",
         "marker": {
          "color": {
           "bdata": "xncs5y5of0C1/34SOpR/QA==",
           "dtype": "f8"
          },
          "coloraxis": "coloraxis",
          "pattern": {
           "shape": ""
          }
         },
         "name": "",
         "orientation": "v",
         "showlegend": false,
         "text": {
          "bdata": "xncs5y5of0C1/34SOpR/QA==",
          "dtype": "f8"
         },
         "textposition": "auto",
         "type": "bar",
         "x": [
          false,
          true
         ],
         "xaxis": "x",
         "y": {
          "bdata": "xncs5y5of0C1/34SOpR/QA==",
          "dtype": "f8"
         },
         "yaxis": "y"
        }
       ],
       "layout": {
        "barmode": "relative",
        "coloraxis": {
         "colorbar": {
          "title": {
           "text": "Purchase Amount ($)"
          }
         },
         "colorscale": [
          [
           0,
           "rgb(176, 242, 188)"
          ],
          [
           0.16666666666666666,
           "rgb(137, 232, 172)"
          ],
          [
           0.3333333333333333,
           "rgb(103, 219, 165)"
          ],
          [
           0.5,
           "rgb(76, 200, 163)"
          ],
          [
           0.6666666666666666,
           "rgb(56, 178, 163)"
          ],
          [
           0.8333333333333334,
           "rgb(44, 152, 160)"
          ],
          [
           1,
           "rgb(37, 125, 152)"
          ]
         ]
        },
        "legend": {
         "tracegroupgap": 0
        },
        "template": {
         "data": {
          "bar": [
           {
            "error_x": {
             "color": "#2a3f5f"
            },
            "error_y": {
             "color": "#2a3f5f"
            },
            "marker": {
             "line": {
              "color": "white",
              "width": 0.5
             },
             "pattern": {
              "fillmode": "overlay",
              "size": 10,
              "solidity": 0.2
             }
            },
            "type": "bar"
           }
          ],
          "barpolar": [
           {
            "marker": {
             "line": {
              "color": "white",
              "width": 0.5
             },
             "pattern": {
              "fillmode": "overlay",
              "size": 10,
              "solidity": 0.2
             }
            },
            "type": "barpolar"
           }
          ],
          "carpet": [
           {
            "aaxis": {
             "endlinecolor": "#2a3f5f",
             "gridcolor": "#C8D4E3",
             "linecolor": "#C8D4E3",
             "minorgridcolor": "#C8D4E3",
             "startlinecolor": "#2a3f5f"
            },
            "baxis": {
             "endlinecolor": "#2a3f5f",
             "gridcolor": "#C8D4E3",
             "linecolor": "#C8D4E3",
             "minorgridcolor": "#C8D4E3",
             "startlinecolor": "#2a3f5f"
            },
            "type": "carpet"
           }
          ],
          "choropleth": [
           {
            "colorbar": {
             "outlinewidth": 0,
             "ticks": ""
            },
            "type": "choropleth"
           }
          ],
          "contour": [
           {
            "colorbar": {
             "outlinewidth": 0,
             "ticks": ""
            },
            "colorscale": [
             [
              0,
              "#0d0887"
             ],
             [
              0.1111111111111111,
              "#46039f"
             ],
             [
              0.2222222222222222,
              "#7201a8"
             ],
             [
              0.3333333333333333,
              "#9c179e"
             ],
             [
              0.4444444444444444,
              "#bd3786"
             ],
             [
              0.5555555555555556,
              "#d8576b"
             ],
             [
              0.6666666666666666,
              "#ed7953"
             ],
             [
              0.7777777777777778,
              "#fb9f3a"
             ],
             [
              0.8888888888888888,
              "#fdca26"
             ],
             [
              1,
              "#f0f921"
             ]
            ],
            "type": "contour"
           }
          ],
          "contourcarpet": [
           {
            "colorbar": {
             "outlinewidth": 0,
             "ticks": ""
            },
            "type": "contourcarpet"
           }
          ],
          "heatmap": [
           {
            "colorbar": {
             "outlinewidth": 0,
             "ticks": ""
            },
            "colorscale": [
             [
              0,
              "#0d0887"
             ],
             [
              0.1111111111111111,
              "#46039f"
             ],
             [
              0.2222222222222222,
              "#7201a8"
             ],
             [
              0.3333333333333333,
              "#9c179e"
             ],
             [
              0.4444444444444444,
              "#bd3786"
             ],
             [
              0.5555555555555556,
              "#d8576b"
             ],
             [
              0.6666666666666666,
              "#ed7953"
             ],
             [
              0.7777777777777778,
              "#fb9f3a"
             ],
             [
              0.8888888888888888,
              "#fdca26"
             ],
             [
              1,
              "#f0f921"
             ]
            ],
            "type": "heatmap"
           }
          ],
          "histogram": [
           {
            "marker": {
             "pattern": {
              "fillmode": "overlay",
              "size": 10,
              "solidity": 0.2
             }
            },
            "type": "histogram"
           }
          ],
          "histogram2d": [
           {
            "colorbar": {
             "outlinewidth": 0,
             "ticks": ""
            },
            "colorscale": [
             [
              0,
              "#0d0887"
             ],
             [
              0.1111111111111111,
              "#46039f"
             ],
             [
              0.2222222222222222,
              "#7201a8"
             ],
             [
              0.3333333333333333,
              "#9c179e"
             ],
             [
              0.4444444444444444,
              "#bd3786"
             ],
             [
              0.5555555555555556,
              "#d8576b"
             ],
             [
              0.6666666666666666,
              "#ed7953"
             ],
             [
              0.7777777777777778,
              "#fb9f3a"
             ],
             [
              0.8888888888888888,
              "#fdca26"
             ],
             [
              1,
              "#f0f921"
             ]
            ],
            "type": "histogram2d"
           }
          ],
          "histogram2dcontour": [
           {
            "colorbar": {
             "outlinewidth": 0,
             "ticks": ""
            },
            "colorscale": [
             [
              0,
              "#0d0887"
             ],
             [
              0.1111111111111111,
              "#46039f"
             ],
             [
              0.2222222222222222,
              "#7201a8"
             ],
             [
              0.3333333333333333,
              "#9c179e"
             ],
             [
              0.4444444444444444,
              "#bd3786"
             ],
             [
              0.5555555555555556,
              "#d8576b"
             ],
             [
              0.6666666666666666,
              "#ed7953"
             ],
             [
              0.7777777777777778,
              "#fb9f3a"
             ],
             [
              0.8888888888888888,
              "#fdca26"
             ],
             [
              1,
              "#f0f921"
             ]
            ],
            "type": "histogram2dcontour"
           }
          ],
          "mesh3d": [
           {
            "colorbar": {
             "outlinewidth": 0,
             "ticks": ""
            },
            "type": "mesh3d"
           }
          ],
          "parcoords": [
           {
            "line": {
             "colorbar": {
              "outlinewidth": 0,
              "ticks": ""
             }
            },
            "type": "parcoords"
           }
          ],
          "pie": [
           {
            "automargin": true,
            "type": "pie"
           }
          ],
          "scatter": [
           {
            "fillpattern": {
             "fillmode": "overlay",
             "size": 10,
             "solidity": 0.2
            },
            "type": "scatter"
           }
          ],
          "scatter3d": [
           {
            "line": {
             "colorbar": {
              "outlinewidth": 0,
              "ticks": ""
             }
            },
            "marker": {
             "colorbar": {
              "outlinewidth": 0,
              "ticks": ""
             }
            },
            "type": "scatter3d"
           }
          ],
          "scattercarpet": [
           {
            "marker": {
             "colorbar": {
              "outlinewidth": 0,
              "ticks": ""
             }
            },
            "type": "scattercarpet"
           }
          ],
          "scattergeo": [
           {
            "marker": {
             "colorbar": {
              "outlinewidth": 0,
              "ticks": ""
             }
            },
            "type": "scattergeo"
           }
          ],
          "scattergl": [
           {
            "marker": {
             "colorbar": {
              "outlinewidth": 0,
              "ticks": ""
             }
            },
            "type": "scattergl"
           }
          ],
          "scattermap": [
           {
            "marker": {
             "colorbar": {
              "outlinewidth": 0,
              "ticks": ""
             }
            },
            "type": "scattermap"
           }
          ],
          "scattermapbox": [
           {
            "marker": {
             "colorbar": {
              "outlinewidth": 0,
              "ticks": ""
             }
            },
            "type": "scattermapbox"
           }
          ],
          "scatterpolar": [
           {
            "marker": {
             "colorbar": {
              "outlinewidth": 0,
              "ticks": ""
             }
            },
            "type": "scatterpolar"
           }
          ],
          "scatterpolargl": [
           {
            "marker": {
             "colorbar": {
              "outlinewidth": 0,
              "ticks": ""
             }
            },
            "type": "scatterpolargl"
           }
          ],
          "scatterternary": [
           {
            "marker": {
             "colorbar": {
              "outlinewidth": 0,
              "ticks": ""
             }
            },
            "type": "scatterternary"
           }
          ],
          "surface": [
           {
            "colorbar": {
             "outlinewidth": 0,
             "ticks": ""
            },
            "colorscale": [
             [
              0,
              "#0d0887"
             ],
             [
              0.1111111111111111,
              "#46039f"
             ],
             [
              0.2222222222222222,
              "#7201a8"
             ],
             [
              0.3333333333333333,
              "#9c179e"
             ],
             [
              0.4444444444444444,
              "#bd3786"
             ],
             [
              0.5555555555555556,
              "#d8576b"
             ],
             [
              0.6666666666666666,
              "#ed7953"
             ],
             [
              0.7777777777777778,
              "#fb9f3a"
             ],
             [
              0.8888888888888888,
              "#fdca26"
             ],
             [
              1,
              "#f0f921"
             ]
            ],
            "type": "surface"
           }
          ],
          "table": [
           {
            "cells": {
             "fill": {
              "color": "#EBF0F8"
             },
             "line": {
              "color": "white"
             }
            },
            "header": {
             "fill": {
              "color": "#C8D4E3"
             },
             "line": {
              "color": "white"
             }
            },
            "type": "table"
           }
          ]
         },
         "layout": {
          "annotationdefaults": {
           "arrowcolor": "#2a3f5f",
           "arrowhead": 0,
           "arrowwidth": 1
          },
          "autotypenumbers": "strict",
          "coloraxis": {
           "colorbar": {
            "outlinewidth": 0,
            "ticks": ""
           }
          },
          "colorscale": {
           "diverging": [
            [
             0,
             "#8e0152"
            ],
            [
             0.1,
             "#c51b7d"
            ],
            [
             0.2,
             "#de77ae"
            ],
            [
             0.3,
             "#f1b6da"
            ],
            [
             0.4,
             "#fde0ef"
            ],
            [
             0.5,
             "#f7f7f7"
            ],
            [
             0.6,
             "#e6f5d0"
            ],
            [
             0.7,
             "#b8e186"
            ],
            [
             0.8,
             "#7fbc41"
            ],
            [
             0.9,
             "#4d9221"
            ],
            [
             1,
             "#276419"
            ]
           ],
           "sequential": [
            [
             0,
             "#0d0887"
            ],
            [
             0.1111111111111111,
             "#46039f"
            ],
            [
             0.2222222222222222,
             "#7201a8"
            ],
            [
             0.3333333333333333,
             "#9c179e"
            ],
            [
             0.4444444444444444,
             "#bd3786"
            ],
            [
             0.5555555555555556,
             "#d8576b"
            ],
            [
             0.6666666666666666,
             "#ed7953"
            ],
            [
             0.7777777777777778,
             "#fb9f3a"
            ],
            [
             0.8888888888888888,
             "#fdca26"
            ],
            [
             1,
             "#f0f921"
            ]
           ],
           "sequentialminus": [
            [
             0,
             "#0d0887"
            ],
            [
             0.1111111111111111,
             "#46039f"
            ],
            [
             0.2222222222222222,
             "#7201a8"
            ],
            [
             0.3333333333333333,
             "#9c179e"
            ],
            [
             0.4444444444444444,
             "#bd3786"
            ],
            [
             0.5555555555555556,
             "#d8576b"
            ],
            [
             0.6666666666666666,
             "#ed7953"
            ],
            [
             0.7777777777777778,
             "#fb9f3a"
            ],
            [
             0.8888888888888888,
             "#fdca26"
            ],
            [
             1,
             "#f0f921"
            ]
           ]
          },
          "colorway": [
           "#636efa",
           "#EF553B",
           "#00cc96",
           "#ab63fa",
           "#FFA15A",
           "#19d3f3",
           "#FF6692",
           "#B6E880",
           "#FF97FF",
           "#FECB52"
          ],
          "font": {
           "color": "#2a3f5f"
          },
          "geo": {
           "bgcolor": "white",
           "lakecolor": "white",
           "landcolor": "white",
           "showlakes": true,
           "showland": true,
           "subunitcolor": "#C8D4E3"
          },
          "hoverlabel": {
           "align": "left"
          },
          "hovermode": "closest",
          "mapbox": {
           "style": "light"
          },
          "paper_bgcolor": "white",
          "plot_bgcolor": "white",
          "polar": {
           "angularaxis": {
            "gridcolor": "#EBF0F8",
            "linecolor": "#EBF0F8",
            "ticks": ""
           },
           "bgcolor": "white",
           "radialaxis": {
            "gridcolor": "#EBF0F8",
            "linecolor": "#EBF0F8",
            "ticks": ""
           }
          },
          "scene": {
           "xaxis": {
            "backgroundcolor": "white",
            "gridcolor": "#DFE8F3",
            "gridwidth": 2,
            "linecolor": "#EBF0F8",
            "showbackground": true,
            "ticks": "",
            "zerolinecolor": "#EBF0F8"
           },
           "yaxis": {
            "backgroundcolor": "white",
            "gridcolor": "#DFE8F3",
            "gridwidth": 2,
            "linecolor": "#EBF0F8",
            "showbackground": true,
            "ticks": "",
            "zerolinecolor": "#EBF0F8"
           },
           "zaxis": {
            "backgroundcolor": "white",
            "gridcolor": "#DFE8F3",
            "gridwidth": 2,
            "linecolor": "#EBF0F8",
            "showbackground": true,
            "ticks": "",
            "zerolinecolor": "#EBF0F8"
           }
          },
          "shapedefaults": {
           "line": {
            "color": "#2a3f5f"
           }
          },
          "ternary": {
           "aaxis": {
            "gridcolor": "#DFE8F3",
            "linecolor": "#A2B1C6",
            "ticks": ""
           },
           "baxis": {
            "gridcolor": "#DFE8F3",
            "linecolor": "#A2B1C6",
            "ticks": ""
           },
           "bgcolor": "white",
           "caxis": {
            "gridcolor": "#DFE8F3",
            "linecolor": "#A2B1C6",
            "ticks": ""
           }
          },
          "title": {
           "x": 0.05
          },
          "xaxis": {
           "automargin": true,
           "gridcolor": "#EBF0F8",
           "linecolor": "#EBF0F8",
           "ticks": "",
           "title": {
            "standoff": 15
           },
           "zerolinecolor": "#EBF0F8",
           "zerolinewidth": 2
          },
          "yaxis": {
           "automargin": true,
           "gridcolor": "#EBF0F8",
           "linecolor": "#EBF0F8",
           "ticks": "",
           "title": {
            "standoff": 15
           },
           "zerolinecolor": "#EBF0F8",
           "zerolinewidth": 2
          }
         }
        },
        "title": {
         "text": "Avg Purchase Amount: Discount vs No Discount"
        },
        "xaxis": {
         "anchor": "y",
         "domain": [
          0,
          1
         ],
         "title": {
          "text": "Discount Availed"
         }
        },
        "yaxis": {
         "anchor": "x",
         "domain": [
          0,
          1
         ],
         "title": {
          "text": "Purchase Amount ($)"
         }
        }
       }
      }
     },
     "metadata": {},
     "output_type": "display_data"
    }
   ],
   "source": [
    "discount_avg = df.groupby('Discount Availed')['Purchase Amount ($)'].mean().reset_index()\n",
    "\n",
    "fig = px.bar(discount_avg, x='Discount Availed', y='Purchase Amount ($)',\n",
    "             title='Avg Purchase Amount: Discount vs No Discount',\n",
    "             text='Purchase Amount ($)',\n",
    "             color='Purchase Amount ($)',\n",
    "             color_continuous_scale='Tealgrn')\n",
    "\n",
    "fig.update_layout(template='plotly_white')\n",
    "fig.show()\n"
   ]
  }
 ],
 "metadata": {
  "kernelspec": {
   "display_name": "Python 3",
   "language": "python",
   "name": "python3"
  },
  "language_info": {
   "codemirror_mode": {
    "name": "ipython",
    "version": 3
   },
   "file_extension": ".py",
   "mimetype": "text/x-python",
   "name": "python",
   "nbconvert_exporter": "python",
   "pygments_lexer": "ipython3",
   "version": "3.13.3"
  }
 },
 "nbformat": 4,
 "nbformat_minor": 5
}
